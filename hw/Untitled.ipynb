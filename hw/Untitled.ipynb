{
 "cells": [
  {
   "cell_type": "code",
   "execution_count": 1,
   "metadata": {},
   "outputs": [],
   "source": [
    "import matplotlib.pyplot as plt\n",
    "import numpy as np\n",
    "import pandas as pd\n",
    "from sklearn import neighbors, datasets"
   ]
  },
  {
   "cell_type": "code",
   "execution_count": 3,
   "metadata": {},
   "outputs": [
    {
     "data": {
      "text/plain": [
       "[<matplotlib.lines.Line2D at 0x1cc27c9e1d0>]"
      ]
     },
     "execution_count": 3,
     "metadata": {},
     "output_type": "execute_result"
    },
    {
     "data": {
      "image/png": "[encoded data removed]",
      "text/plain": [
       "<Figure size 432x288 with 1 Axes>"
      ]
     },
     "metadata": {},
     "output_type": "display_data"
    }
   ],
   "source": [
    "plt.plot([1,2,3,4],[1,2,3,4],'magenta')"
   ]
  },
  {
   "cell_type": "code",
   "execution_count": 4,
   "metadata": {},
   "outputs": [
    {
     "data": {
      "text/plain": [
       "([<matplotlib.axis.YTick at 0x1cc27d25ba8>,\n",
       "  <matplotlib.axis.YTick at 0x1cc27d25470>,\n",
       "  <matplotlib.axis.YTick at 0x1cc27d04e80>,\n",
       "  <matplotlib.axis.YTick at 0x1cc27d631d0>,\n",
       "  <matplotlib.axis.YTick at 0x1cc27d636d8>,\n",
       "  <matplotlib.axis.YTick at 0x1cc27d63be0>,\n",
       "  <matplotlib.axis.YTick at 0x1cc27d6a160>,\n",
       "  <matplotlib.axis.YTick at 0x1cc27d6a630>,\n",
       "  <matplotlib.axis.YTick at 0x1cc27d63a58>],\n",
       " <a list of 9 Text yticklabel objects>)"
      ]
     },
     "execution_count": 4,
     "metadata": {},
     "output_type": "execute_result"
    },
    {
     "data": {
      "image/png": "[encoded data removed]",
      "text/plain": [
       "<Figure size 432x288 with 1 Axes>"
      ]
     },
     "metadata": {},
     "output_type": "display_data"
    }
   ],
   "source": [
    "N = 5\n",
    "men =(20,35,30,35,27)\n",
    "women = (25,32,34,20,27)\n",
    "ind = np.arange(N)\n",
    "wid = 0.35\n",
    "\n",
    "p1 = plt.bar(ind, men, wid, color='red')\n",
    "p2 = plt.bar(ind, women, wid, bottom = men,color='magenta')\n",
    "\n",
    "plt.xticks(ind,('G1','G2','G3','G4','G5'))\n",
    "plt.yticks(np.arange(0,81,10))"
   ]
  },
  {
   "cell_type": "code",
   "execution_count": 12,
   "metadata": {},
   "outputs": [
    {
     "data": {
      "text/plain": [
       "{'whiskers': [<matplotlib.lines.Line2D at 0x2195c592518>,\n",
       "  <matplotlib.lines.Line2D at 0x2195c5929b0>],\n",
       " 'caps': [<matplotlib.lines.Line2D at 0x2195c592dd8>,\n",
       "  <matplotlib.lines.Line2D at 0x2195c5a4240>],\n",
       " 'boxes': [<matplotlib.lines.Line2D at 0x2195c5923c8>],\n",
       " 'medians': [<matplotlib.lines.Line2D at 0x2195c5a4668>],\n",
       " 'fliers': [],\n",
       " 'means': []}"
      ]
     },
     "execution_count": 12,
     "metadata": {},
     "output_type": "execute_result"
    },
    {
     "data": {
      "image/png": "[encoded data removed]",
      "text/plain": [
       "<Figure size 432x288 with 1 Axes>"
      ]
     },
     "metadata": {},
     "output_type": "display_data"
    }
   ],
   "source": [
    "from random import *\n",
    "spred = np.random.rand(50)*100\n",
    "center = np.ones(25)*50\n",
    "fliter_hi = np.random.rand(10)*100 +100\n",
    "fliter_lo = np.random.rand(10)*-100\n",
    "data = np.concatenate((spred, center, fliter_hi, fliter_lo),0)\n",
    "plt.figure()\n",
    "##plt.text(0,1,'asdd')\n",
    "plt.boxplot(data,0,'',0)"
   ]
  },
  {
   "cell_type": "code",
   "execution_count": 7,
   "metadata": {},
   "outputs": [],
   "source": [
    "data  = pd.read_csv('TIME_CARD_SPENDING.csv')\n",
    "df = pd.DataFrame(data)"
   ]
  },
  {
   "cell_type": "code",
   "execution_count": 10,
   "metadata": {},
   "outputs": [
    {
     "data": {
      "text/html": [
       "<div>\n",
       "<style scoped>\n",
       "    .dataframe tbody tr th:only-of-type {\n",
       "        vertical-align: middle;\n",
       "    }\n",
       "\n",
       "    .dataframe tbody tr th {\n",
       "        vertical-align: top;\n",
       "    }\n",
       "\n",
       "    .dataframe thead th {\n",
       "        text-align: right;\n",
       "    }\n",
       "</style>\n",
       "<table border=\"1\" class=\"dataframe\">\n",
       "  <thead>\n",
       "    <tr style=\"text-align: right;\">\n",
       "      <th></th>\n",
       "      <th>STD_YM|GU_CD|DONG_CD|MCT_CAT_CD|TIME_CD|USE_CNT|USE_AMT</th>\n",
       "    </tr>\n",
       "  </thead>\n",
       "  <tbody>\n",
       "    <tr>\n",
       "      <th>0</th>\n",
       "      <td>201601|65|101|01|00|384|21453079</td>\n",
       "    </tr>\n",
       "    <tr>\n",
       "      <th>1</th>\n",
       "      <td>201601|65|101|01|01|378|18356841</td>\n",
       "    </tr>\n",
       "    <tr>\n",
       "      <th>2</th>\n",
       "      <td>201601|65|101|01|02|211|11297446</td>\n",
       "    </tr>\n",
       "    <tr>\n",
       "      <th>3</th>\n",
       "      <td>201601|65|101|01|03|137|7489764</td>\n",
       "    </tr>\n",
       "    <tr>\n",
       "      <th>4</th>\n",
       "      <td>201601|65|101|01|04|142|7349610</td>\n",
       "    </tr>\n",
       "  </tbody>\n",
       "</table>\n",
       "</div>"
      ],
      "text/plain": [
       "  STD_YM|GU_CD|DONG_CD|MCT_CAT_CD|TIME_CD|USE_CNT|USE_AMT\n",
       "0                   201601|65|101|01|00|384|21453079     \n",
       "1                   201601|65|101|01|01|378|18356841     \n",
       "2                   201601|65|101|01|02|211|11297446     \n",
       "3                    201601|65|101|01|03|137|7489764     \n",
       "4                    201601|65|101|01|04|142|7349610     "
      ]
     },
     "execution_count": 10,
     "metadata": {},
     "output_type": "execute_result"
    }
   ],
   "source": [
    "df.head()"
   ]
  },
  {
   "cell_type": "code",
   "execution_count": 19,
   "metadata": {},
   "outputs": [],
   "source": [
    "iris = datasets.load_iris()"
   ]
  },
  {
   "cell_type": "code",
   "execution_count": 22,
   "metadata": {},
   "outputs": [],
   "source": [
    "neigh,X,y,h = 5,iris.data[:,:2], iris.target,0.02"
   ]
  },
  {
   "cell_type": "code",
   "execution_count": 26,
   "metadata": {},
   "outputs": [
    {
     "data": {
      "text/plain": [
       "KNeighborsClassifier(algorithm='auto', leaf_size=30, metric='minkowski',\n",
       "           metric_params=None, n_jobs=1, n_neighbors=5, p=2,\n",
       "           weights='uniform')"
      ]
     },
     "execution_count": 26,
     "metadata": {},
     "output_type": "execute_result"
    }
   ],
   "source": [
    "clf = neighbors.KNeighborsClassifier(neigh, weights='uniform')\n",
    "clf.fit(X,y)\n"
   ]
  },
  {
   "cell_type": "code",
   "execution_count": null,
   "metadata": {},
   "outputs": [],
   "source": []
  },
  {
   "cell_type": "code",
   "execution_count": 4,
   "metadata": {},
   "outputs": [
    {
     "data": {
      "text/plain": [
       "<BarContainer object of 4 artists>"
      ]
     },
     "execution_count": 4,
     "metadata": {},
     "output_type": "execute_result"
    },
    {
     "data": {
      "image/png": "[encoded data removed]",
      "text/plain": [
       "<Figure size 432x288 with 1 Axes>"
      ]
     },
     "metadata": {},
     "output_type": "display_data"
    }
   ],
   "source": [
    "ind = np.arange(4)\n",
    "x = [4,6,6,8]\n",
    "plt.bar(ind,x,width=0.3,bottom=5)"
   ]
  },
  {
   "cell_type": "code",
   "execution_count": 19,
   "metadata": {},
   "outputs": [
    {
     "data": {
      "text/plain": [
       "<matplotlib.legend.Legend at 0x28e7ab4d860>"
      ]
     },
     "execution_count": 19,
     "metadata": {},
     "output_type": "execute_result"
    },
    {
     "data": {
      "image/png": "[encoded data removed]",
      "text/plain": [
       "<Figure size 432x288 with 2 Axes>"
      ]
     },
     "metadata": {},
     "output_type": "display_data"
    }
   ],
   "source": [
    "N =5\n",
    "men = (20,35,30,35,27)\n",
    "women = (25,32,34,20,27)\n",
    "\n",
    "ind = np.arange(N)\n",
    "wid = 0.35\n",
    "plt.figure(1)\n",
    "plt.subplot(121)\n",
    "p11 = plt.bar(ind-wid/2 , men , wid, color='red')\n",
    "plt.subplot(122)\n",
    "p12 = plt.bar(ind+wid/2 , women , wid, color='black')\n",
    "##plt.figure(2)\n",
    "##p21 = plt.bar(ind+wid/2 , women , wid, color='black')\n",
    "##p22 = plt.bar(ind-wid/2 , men , wid, color='red')\n",
    "\n",
    "plt.xticks(ind, ('G1','G2','G3','G4','G5'))\n",
    "plt.yticks(np.arange(0,81,10))\n",
    "plt.legend((p1,p2),('men','womet'))"
   ]
  },
  {
   "cell_type": "code",
   "execution_count": 9,
   "metadata": {},
   "outputs": [],
   "source": [
    "from random import*"
   ]
  },
  {
   "cell_type": "code",
   "execution_count": 17,
   "metadata": {},
   "outputs": [
    {
     "data": {
      "text/plain": [
       "(2, 10)"
      ]
     },
     "execution_count": 17,
     "metadata": {},
     "output_type": "execute_result"
    },
    {
     "data": {
      "image/png": "[encoded data removed]",
      "text/plain": [
       "<Figure size 432x288 with 1 Axes>"
      ]
     },
     "metadata": {},
     "output_type": "display_data"
    }
   ],
   "source": [
    "plt.scatter([1,2,3,4],[1,2,3,4])\n",
    "plt.plot([1,2,3,4],[1,2,3,4])\n",
    "plt.xlim(0,4)\n",
    "plt.ylim(2,10)"
   ]
  },
  {
   "cell_type": "code",
   "execution_count": 11,
   "metadata": {},
   "outputs": [],
   "source": [
    "?plt.xticks"
   ]
  },
  {
   "cell_type": "code",
   "execution_count": null,
   "metadata": {},
   "outputs": [],
   "source": []
  },
  {
   "cell_type": "code",
   "execution_count": null,
   "metadata": {},
   "outputs": [],
   "source": []
  },
  {
   "cell_type": "code",
   "execution_count": 1,
   "metadata": {},
   "outputs": [],
   "source": [
    "import re"
   ]
  },
  {
   "cell_type": "code",
   "execution_count": 3,
   "metadata": {},
   "outputs": [],
   "source": [
    "my = '010-1535-10930'\\\n",
    "     '010-1393-1934'\\\n",
    "     '010-2581-0128'"
   ]
  },
  {
   "cell_type": "code",
   "execution_count": 20,
   "metadata": {},
   "outputs": [],
   "source": [
    "phone = re.finditer(r'010-\\d{3,4}-\\d{4}',my)\n"
   ]
  },
  {
   "cell_type": "code",
   "execution_count": 21,
   "metadata": {},
   "outputs": [
    {
     "data": {
      "text/plain": [
       "'010-1535-1093'"
      ]
     },
     "execution_count": 21,
     "metadata": {},
     "output_type": "execute_result"
    }
   ],
   "source": [
    "next(phone).group()"
   ]
  },
  {
   "cell_type": "code",
   "execution_count": null,
   "metadata": {},
   "outputs": [],
   "source": []
  }
 ],
 "metadata": {
  "kernelspec": {
   "display_name": "Python 3",
   "language": "python",
   "name": "python3"
  },
  "language_info": {
   "codemirror_mode": {
    "name": "ipython",
    "version": 3
   },
   "file_extension": ".py",
   "mimetype": "text/x-python",
   "name": "python",
   "nbconvert_exporter": "python",
   "pygments_lexer": "ipython3",
   "version": "3.6.5"
  }
 },
 "nbformat": 4,
 "nbformat_minor": 2
}
