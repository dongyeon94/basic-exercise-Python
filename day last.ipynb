{
 "cells": [
  {
   "cell_type": "code",
   "execution_count": 1,
   "metadata": {},
   "outputs": [
    {
     "name": "stdout",
     "output_type": "stream",
     "text": [
      "[{'Date': '17.01.02', 'Start': '1799000', 'High': '1812000', 'Low': '1794000', 'End': '1805000', 'Volume': '93012'}]\n"
     ]
    }
   ],
   "source": [
    "with open('table.csv','r') as f:\n",
    "    lines =  f.readlines()\n",
    "    col_names = lines[0].strip().split(',')\n",
    "    result= []\n",
    "    for  line in lines[1:]:\n",
    "        row_dict = {}\n",
    "        splited = line.strip().split(',')\n",
    "        \n",
    "    for i, col_name in enumerate(col_names):\n",
    "        row_dict[col_name] = splited[i]\n",
    "        \n",
    "    result.append(row_dict)\n",
    "    \n",
    "print(result)\n"
   ]
  },
  {
   "cell_type": "code",
   "execution_count": 2,
   "metadata": {},
   "outputs": [],
   "source": [
    "a= {'Python','JAVA','C++','R'}"
   ]
  },
  {
   "cell_type": "code",
   "execution_count": 3,
   "metadata": {},
   "outputs": [
    {
     "name": "stdout",
     "output_type": "stream",
     "text": [
      "<map object at 0x061B4D30>\n"
     ]
    }
   ],
   "source": [
    "map_by_len = map(len,a)\n",
    "print(map_by_len)"
   ]
  },
  {
   "cell_type": "code",
   "execution_count": 4,
   "metadata": {},
   "outputs": [
    {
     "name": "stdout",
     "output_type": "stream",
     "text": [
      "[1, 6, 3, 4]\n"
     ]
    }
   ],
   "source": [
    "print(list(map_by_len))"
   ]
  },
  {
   "cell_type": "code",
   "execution_count": 5,
   "metadata": {},
   "outputs": [],
   "source": [
    "b = ['string','list','dict','tuple']"
   ]
  },
  {
   "cell_type": "code",
   "execution_count": 6,
   "metadata": {},
   "outputs": [
    {
     "name": "stdout",
     "output_type": "stream",
     "text": [
      "[False, True, True, False]\n"
     ]
    }
   ],
   "source": [
    "map_by = map(lambda x: x.endswith('t'),b)   ##  첫줄 설명 : 람다 함수 x는 t로 끝나면 ture 를 출력하고 t로 안끝나면false를 출력함\n",
    "print(list(map_by))"
   ]
  },
  {
   "cell_type": "code",
   "execution_count": 7,
   "metadata": {},
   "outputs": [
    {
     "name": "stdout",
     "output_type": "stream",
     "text": [
      "[{'Date': '17', 'Start': '07', 'High': '14,2550000,2554000,2521000,2524000,164780'}, {'Date': '17', 'Start': '07', 'High': '13,2504000,2547000,2502000,2528000,320683'}, {'Date': '17', 'Start': '07', 'High': '12,2450000,2500000,2442000,2494000,189723'}, {'Date': '17', 'Start': '07', 'High': '11,2432000,2450000,2414000,2450000,194356'}, {'Date': '17', 'Start': '07', 'High': '10,2425000,2445000,2416000,2433000,215855'}, {'Date': '17', 'Start': '07', 'High': '07,2387000,2406000,2381000,2393000,162638'}, {'Date': '17', 'Start': '07', 'High': '06,2400000,2405000,2386000,2403000,218461'}, {'Date': '17', 'Start': '07', 'High': '05,2341000,2384000,2339000,2379000,212805'}, {'Date': '17', 'Start': '07', 'High': '04,2358000,2370000,2345000,2350000,159220'}, {'Date': '17', 'Start': '07', 'High': '03,2375000,2389000,2356000,2361000,136111'}, {'Date': '17', 'Start': '06', 'High': '30,2375000,2381000,2355000,2377000,237551'}, {'Date': '17', 'Start': '06', 'High': '29,2402000,2416000,2397000,2397000,166131'}, {'Date': '17', 'Start': '06', 'High': '28,2380000,2400000,2378000,2385000,191450'}, {'Date': '17', 'Start': '06', 'High': '27,2411000,2420000,2395000,2415000,192335'}, {'Date': '17', 'Start': '06', 'High': '26,2376000,2418000,2376000,2414000,171056'}, {'Date': '17', 'Start': '06', 'High': '23,2380000,2389000,2371000,2381000,190302'}, {'Date': '17', 'Start': '06', 'High': '22,2398000,2404000,2386000,2398000,229116'}, {'Date': '17', 'Start': '06', 'High': '21,2387000,2406000,2374000,2374000,199473'}, {'Date': '17', 'Start': '06', 'High': '20,2362000,2407000,2361000,2407000,300900'}, {'Date': '17', 'Start': '06', 'High': '19,2279000,2328000,2278000,2328000,226078'}, {'Date': '17', 'Start': '06', 'High': '16,2275000,2297000,2273000,2279000,348069'}, {'Date': '17', 'Start': '06', 'High': '15,2284000,2296000,2259000,2284000,193140'}, {'Date': '17', 'Start': '06', 'High': '14,2290000,2303000,2262000,2268000,203334'}, {'Date': '17', 'Start': '06', 'High': '13,2257000,2281000,2257000,2270000,172498'}, {'Date': '17', 'Start': '06', 'High': '12,2271000,2280000,2257000,2269000,219086'}, {'Date': '17', 'Start': '06', 'High': '09,2284000,2322000,2280000,2305000,234657'}, {'Date': '17', 'Start': '06', 'High': '08,2250000,2279000,2250000,2258000,279575'}, {'Date': '17', 'Start': '06', 'High': '07,2325000,2325000,2262000,2265000,274588'}, {'Date': '17', 'Start': '06', 'High': '05,2302000,2318000,2286000,2297000,151988'}, {'Date': '17', 'Start': '06', 'High': '05,2302000,2318000,2286000,2297000,151988'}, {'Date': '17', 'Start': '06', 'High': '02,2253000,2298000,2250000,2298000,249775'}, {'Date': '17', 'Start': '06', 'High': '01,2243000,2245000,2220000,2234000,195070'}, {'Date': '17', 'Start': '05', 'High': '31,2229000,2251000,2220000,2235000,373382'}, {'Date': '17', 'Start': '05', 'High': '30,2276000,2283000,2224000,2232000,248672'}, {'Date': '17', 'Start': '05', 'High': '29,2311000,2320000,2269000,2281000,174791'}, {'Date': '17', 'Start': '05', 'High': '26,2280000,2323000,2277000,2304000,272273'}, {'Date': '17', 'Start': '05', 'High': '25,2258000,2284000,2240000,2284000,260896'}, {'Date': '17', 'Start': '05', 'High': '24,2243000,2265000,2240000,2244000,173508'}, {'Date': '17', 'Start': '05', 'High': '23,2270000,2279000,2245000,2246000,252141'}, {'Date': '17', 'Start': '05', 'High': '22,2252000,2269000,2238000,2255000,352871'}, {'Date': '17', 'Start': '05', 'High': '19,2282000,2289000,2236000,2236000,315247'}, {'Date': '17', 'Start': '05', 'High': '18,2287000,2300000,2277000,2297000,223207'}, {'Date': '17', 'Start': '05', 'High': '17,2306000,2332000,2305000,2317000,148489'}, {'Date': '17', 'Start': '05', 'High': '16,2333000,2340000,2305000,2319000,176075'}, {'Date': '17', 'Start': '05', 'High': '15,2281000,2314000,2281000,2305000,160028'}, {'Date': '17', 'Start': '05', 'High': '12,2288000,2308000,2283000,2291000,188458'}, {'Date': '17', 'Start': '05', 'High': '11,2271000,2309000,2261000,2275000,425557'}, {'Date': '17', 'Start': '05', 'High': '10,2308000,2361000,2280000,2280000,468219'}, {'Date': '17', 'Start': '05', 'High': '08,2276000,2351000,2267000,2351000,332669'}, {'Date': '17', 'Start': '05', 'High': '04,2285000,2285000,2243000,2276000,273802'}, {'Date': '17', 'Start': '05', 'High': '02,2275000,2275000,2238000,2245000,281366'}, {'Date': '17', 'Start': '04', 'High': '28,2289000,2290000,2226000,2231000,429468'}, {'Date': '17', 'Start': '04', 'High': '27,2135000,2226000,2098000,2192000,460645'}, {'Date': '17', 'Start': '04', 'High': '26,2135000,2140000,2126000,2140000,295896'}, {'Date': '17', 'Start': '04', 'High': '25,2073000,2137000,2066000,2135000,385992'}, {'Date': '17', 'Start': '04', 'High': '24,2063000,2063000,2046000,2062000,179803'}, {'Date': '17', 'Start': '04', 'High': '21,2024000,2070000,2024000,2038000,302610'}, {'Date': '17', 'Start': '04', 'High': '20,2029000,2040000,2004000,2014000,422977'}, {'Date': '17', 'Start': '04', 'High': '19,2065000,2071000,2045000,2045000,235258'}, {'Date': '17', 'Start': '04', 'High': '18,2084000,2091000,2064000,2075000,137213'}, {'Date': '17', 'Start': '04', 'High': '17,2100000,2104000,2076000,2078000,104495'}, {'Date': '17', 'Start': '04', 'High': '14,2108000,2113000,2088000,2101000,109257'}, {'Date': '17', 'Start': '04', 'High': '13,2083000,2123000,2083000,2121000,180816'}, {'Date': '17', 'Start': '04', 'High': '12,2093000,2097000,2085000,2095000,165498'}, {'Date': '17', 'Start': '04', 'High': '11,2097000,2097000,2079000,2080000,143458'}, {'Date': '17', 'Start': '04', 'High': '10,2097000,2097000,2075000,2097000,142827'}, {'Date': '17', 'Start': '04', 'High': '07,2090000,2091000,2058000,2080000,200420'}, {'Date': '17', 'Start': '04', 'High': '06,2100000,2104000,2080000,2092000,193668'}, {'Date': '17', 'Start': '04', 'High': '05,2095000,2112000,2085000,2107000,213994'}, {'Date': '17', 'Start': '04', 'High': '04,2080000,2109000,2076000,2104000,245110'}, {'Date': '17', 'Start': '04', 'High': '03,2070000,2086000,2065000,2072000,191588'}, {'Date': '17', 'Start': '03', 'High': '31,2091000,2101000,2060000,2060000,210006'}, {'Date': '17', 'Start': '03', 'High': '30,2094000,2122000,2094000,2099000,164080'}, {'Date': '17', 'Start': '03', 'High': '29,2087000,2098000,2079000,2089000,201865'}, {'Date': '17', 'Start': '03', 'High': '28,2078000,2092000,2069000,2074000,164325'}, {'Date': '17', 'Start': '03', 'High': '27,2060000,2094000,2059000,2060000,243553'}, {'Date': '17', 'Start': '03', 'High': '24,2080000,2099000,2054000,2075000,256163'}, {'Date': '17', 'Start': '03', 'High': '23,2110000,2118000,2085000,2090000,307942'}, {'Date': '17', 'Start': '03', 'High': '22,2080000,2123000,2079000,2123000,328545'}, {'Date': '17', 'Start': '03', 'High': '21,2089000,2134000,2088000,2128000,284403'}, {'Date': '17', 'Start': '03', 'High': '20,2100000,2106000,2087000,2095000,205001'}, {'Date': '17', 'Start': '03', 'High': '17,2090000,2125000,2086000,2120000,252046'}, {'Date': '17', 'Start': '03', 'High': '16,2090000,2109000,2077000,2092000,198663'}, {'Date': '17', 'Start': '03', 'High': '15,2040000,2072000,2040000,2070000,191757'}, {'Date': '17', 'Start': '03', 'High': '14,2031000,2077000,2025000,2068000,226501'}, {'Date': '17', 'Start': '03', 'High': '13,2002000,2049000,2002000,2030000,148482'}, {'Date': '17', 'Start': '03', 'High': '10,1998000,2021000,1993000,2009000,204556'}, {'Date': '17', 'Start': '03', 'High': '09,2010000,2015000,2001000,2010000,287445'}, {'Date': '17', 'Start': '03', 'High': '08,2010000,2031000,2007000,2010000,242819'}, {'Date': '17', 'Start': '03', 'High': '07,1990000,2016000,1990000,2010000,211065'}, {'Date': '17', 'Start': '03', 'High': '06,1961000,2011000,1961000,2004000,244697'}, {'Date': '17', 'Start': '03', 'High': '03,1967000,1986000,1958000,1981000,254174'}, {'Date': '17', 'Start': '03', 'High': '02,1921000,1993000,1921000,1986000,424996'}, {'Date': '17', 'Start': '02', 'High': '28,1903000,1938000,1898000,1922000,301774'}, {'Date': '17', 'Start': '02', 'High': '27,1901000,1907000,1885000,1903000,180674'}, {'Date': '17', 'Start': '02', 'High': '24,1948000,1955000,1903000,1911000,185937'}, {'Date': '17', 'Start': '02', 'High': '23,1951000,1972000,1951000,1959000,204346'}, {'Date': '17', 'Start': '02', 'High': '22,1950000,1967000,1949000,1965000,170688'}, {'Date': '17', 'Start': '02', 'High': '21,1927000,1978000,1921000,1947000,211252'}, {'Date': '17', 'Start': '02', 'High': '20,1911000,1939000,1908000,1933000,149716'}, {'Date': '17', 'Start': '02', 'High': '17,1878000,1902000,1864000,1893000,307549'}, {'Date': '17', 'Start': '02', 'High': '16,1890000,1918000,1889000,1901000,204527'}, {'Date': '17', 'Start': '02', 'High': '15,1854000,1898000,1854000,1886000,283831'}, {'Date': '17', 'Start': '02', 'High': '14,1898000,1913000,1866000,1879000,262483'}, {'Date': '17', 'Start': '02', 'High': '13,1887000,1903000,1886000,1898000,222041'}, {'Date': '17', 'Start': '02', 'High': '10,1920000,1938000,1915000,1918000,220415'}, {'Date': '17', 'Start': '02', 'High': '09,1939000,1942000,1911000,1920000,273883'}, {'Date': '17', 'Start': '02', 'High': '08,1937000,1939000,1910000,1920000,341859'}, {'Date': '17', 'Start': '02', 'High': '07,1978000,1979000,1938000,1941000,280836'}, {'Date': '17', 'Start': '02', 'High': '06,1979000,1983000,1957000,1978000,177214'}, {'Date': '17', 'Start': '02', 'High': '03,1970000,1975000,1959000,1973000,207727'}, {'Date': '17', 'Start': '02', 'High': '02,1980000,1983000,1960000,1968000,300586'}, {'Date': '17', 'Start': '02', 'High': '01,1977000,1983000,1952000,1956000,283008'}, {'Date': '17', 'Start': '01', 'High': '31,1995000,1995000,1973000,1973000,359844'}, {'Date': '17', 'Start': '01', 'High': '26,1971000,2000000,1971000,1995000,257933'}, {'Date': '17', 'Start': '01', 'High': '25,1917000,1970000,1916000,1970000,268677'}, {'Date': '17', 'Start': '01', 'High': '24,1906000,1929000,1894000,1908000,220975'}, {'Date': '17', 'Start': '01', 'High': '23,1860000,1903000,1850000,1903000,176208'}, {'Date': '17', 'Start': '01', 'High': '20,1856000,1871000,1844000,1860000,183700'}, {'Date': '17', 'Start': '01', 'High': '19,1886000,1896000,1851000,1874000,188378'}, {'Date': '17', 'Start': '01', 'High': '18,1852000,1875000,1831000,1847000,177508'}, {'Date': '17', 'Start': '01', 'High': '17,1829000,1873000,1829000,1848000,163014'}, {'Date': '17', 'Start': '01', 'High': '16,1843000,1891000,1816000,1833000,332230'}, {'Date': '17', 'Start': '01', 'High': '13,1905000,1916000,1873000,1873000,319089'}, {'Date': '17', 'Start': '01', 'High': '12,1900000,1940000,1899000,1940000,233383'}, {'Date': '17', 'Start': '01', 'High': '11,1876000,1928000,1871000,1914000,240363'}, {'Date': '17', 'Start': '01', 'High': '10,1864000,1870000,1854000,1862000,181996'}, {'Date': '17', 'Start': '01', 'High': '09,1830000,1875000,1828000,1861000,263898'}, {'Date': '17', 'Start': '01', 'High': '06,1809000,1822000,1802000,1810000,177619'}, {'Date': '17', 'Start': '01', 'High': '05,1803000,1803000,1777000,1778000,219349'}, {'Date': '17', 'Start': '01', 'High': '04,1825000,1826000,1805000,1808000,159435'}, {'Date': '17', 'Start': '01', 'High': '03,1814000,1831000,1801000,1824000,147153'}, {'Date': '17', 'Start': '01', 'High': '02,1799000,1812000,1794000,1805000,93012'}]\n"
     ]
    }
   ],
   "source": [
    "with open('table.csv', 'r') as f:\n",
    "    col_names = f.readline().strip().split(',')\n",
    "    result = list(map(lambda x: dict(zip(col_names, x.strip().split('.'))),f.readlines()[1:]))\n",
    "    \n",
    "print(result)"
   ]
  },
  {
   "cell_type": "code",
   "execution_count": 8,
   "metadata": {},
   "outputs": [
    {
     "name": "stdout",
     "output_type": "stream",
     "text": [
      "<map object at 0x064011D0>\n"
     ]
    }
   ],
   "source": [
    "b = ['string','list','dict','tuple']\n",
    "map_by = map(lambda x: x.startswith('s'),b)       ## 람다 x를 이용해서 int 크기 비교 할 수 잇음 x >2이런식\n",
    "print(map_by)"
   ]
  },
  {
   "cell_type": "code",
   "execution_count": 9,
   "metadata": {},
   "outputs": [
    {
     "name": "stdout",
     "output_type": "stream",
     "text": [
      "[True, False, False, False]\n"
     ]
    }
   ],
   "source": [
    "print(list(map_by))"
   ]
  },
  {
   "cell_type": "code",
   "execution_count": 10,
   "metadata": {},
   "outputs": [
    {
     "ename": "KeyError",
     "evalue": "'HR'",
     "output_type": "error",
     "traceback": [
      "\u001b[1;31m---------------------------------------------------------------------------\u001b[0m",
      "\u001b[1;31mKeyError\u001b[0m                                  Traceback (most recent call last)",
      "\u001b[1;32m<ipython-input-10-832f49fb675f>\u001b[0m in \u001b[0;36m<module>\u001b[1;34m()\u001b[0m\n\u001b[0;32m      3\u001b[0m     \u001b[0mresult\u001b[0m \u001b[1;33m=\u001b[0m \u001b[0mlist\u001b[0m\u001b[1;33m(\u001b[0m\u001b[0mmap\u001b[0m\u001b[1;33m(\u001b[0m\u001b[1;32mlambda\u001b[0m \u001b[0mx\u001b[0m\u001b[1;33m:\u001b[0m \u001b[0mdict\u001b[0m\u001b[1;33m(\u001b[0m\u001b[0mzip\u001b[0m\u001b[1;33m(\u001b[0m\u001b[0mcol_names\u001b[0m\u001b[1;33m,\u001b[0m \u001b[0mx\u001b[0m\u001b[1;33m.\u001b[0m\u001b[0mstrip\u001b[0m\u001b[1;33m(\u001b[0m\u001b[1;33m)\u001b[0m\u001b[1;33m.\u001b[0m\u001b[0msplit\u001b[0m\u001b[1;33m(\u001b[0m\u001b[1;34m'.'\u001b[0m\u001b[1;33m)\u001b[0m\u001b[1;33m)\u001b[0m\u001b[1;33m)\u001b[0m\u001b[1;33m,\u001b[0m\u001b[0mf\u001b[0m\u001b[1;33m.\u001b[0m\u001b[0mreadlines\u001b[0m\u001b[1;33m(\u001b[0m\u001b[1;33m)\u001b[0m\u001b[1;33m[\u001b[0m\u001b[1;36m1\u001b[0m\u001b[1;33m:\u001b[0m\u001b[1;33m]\u001b[0m\u001b[1;33m)\u001b[0m\u001b[1;33m)\u001b[0m\u001b[1;33m\u001b[0m\u001b[0m\n\u001b[0;32m      4\u001b[0m \u001b[1;33m\u001b[0m\u001b[0m\n\u001b[1;32m----> 5\u001b[1;33m \u001b[0mprob_1\u001b[0m \u001b[1;33m=\u001b[0m \u001b[0mlist\u001b[0m\u001b[1;33m(\u001b[0m\u001b[0mmap\u001b[0m\u001b[1;33m(\u001b[0m\u001b[1;32mlambda\u001b[0m \u001b[0mx\u001b[0m \u001b[1;33m:\u001b[0m \u001b[0mx\u001b[0m\u001b[1;33m[\u001b[0m\u001b[1;34m'Player'\u001b[0m\u001b[1;33m]\u001b[0m\u001b[1;33m,\u001b[0m \u001b[0mfilter\u001b[0m\u001b[1;33m(\u001b[0m\u001b[1;32mlambda\u001b[0m \u001b[0mx\u001b[0m \u001b[1;33m:\u001b[0m \u001b[0mint\u001b[0m\u001b[1;33m(\u001b[0m\u001b[0mx\u001b[0m\u001b[1;33m[\u001b[0m\u001b[1;34m'HR'\u001b[0m\u001b[1;33m]\u001b[0m\u001b[1;33m)\u001b[0m \u001b[1;33m>=\u001b[0m \u001b[1;36m30\u001b[0m \u001b[1;32mand\u001b[0m \u001b[0mfloat\u001b[0m\u001b[1;33m(\u001b[0m\u001b[0mx\u001b[0m\u001b[1;33m[\u001b[0m\u001b[1;34m'AVG'\u001b[0m\u001b[1;33m]\u001b[0m\u001b[1;33m)\u001b[0m  \u001b[1;33m>\u001b[0m\u001b[1;36m0.3\u001b[0m\u001b[1;33m,\u001b[0m\u001b[0mresult\u001b[0m\u001b[1;33m)\u001b[0m\u001b[1;33m)\u001b[0m\u001b[1;33m)\u001b[0m\u001b[1;33m\u001b[0m\u001b[0m\n\u001b[0m\u001b[0;32m      6\u001b[0m \u001b[1;33m\u001b[0m\u001b[0m\n\u001b[0;32m      7\u001b[0m \u001b[0mprob_2\u001b[0m \u001b[1;33m=\u001b[0m \u001b[0mlist\u001b[0m\u001b[1;33m(\u001b[0m\u001b[0mmap\u001b[0m\u001b[1;33m(\u001b[0m\u001b[1;32mlambda\u001b[0m \u001b[0mx\u001b[0m \u001b[1;33m:\u001b[0m \u001b[0mx\u001b[0m\u001b[1;33m[\u001b[0m\u001b[1;34m'Player'\u001b[0m\u001b[1;33m]\u001b[0m\u001b[1;33m,\u001b[0m \u001b[0mfilter\u001b[0m\u001b[1;33m(\u001b[0m\u001b[1;32mlambda\u001b[0m \u001b[0mx\u001b[0m \u001b[1;33m:\u001b[0m \u001b[0mint\u001b[0m\u001b[1;33m(\u001b[0m\u001b[0mx\u001b[0m\u001b[1;33m[\u001b[0m\u001b[1;34m'SO'\u001b[0m\u001b[1;33m]\u001b[0m\u001b[1;33m)\u001b[0m \u001b[1;33m>=\u001b[0m \u001b[1;36m30\u001b[0m \u001b[1;32mand\u001b[0m \u001b[0mfloat\u001b[0m\u001b[1;33m(\u001b[0m\u001b[0mx\u001b[0m\u001b[1;33m[\u001b[0m\u001b[1;34m'H'\u001b[0m\u001b[1;33m]\u001b[0m\u001b[1;33m)\u001b[0m    \u001b[1;33m>\u001b[0m\u001b[1;36m0.3\u001b[0m\u001b[1;33m,\u001b[0m\u001b[0mresult\u001b[0m\u001b[1;33m)\u001b[0m\u001b[1;33m)\u001b[0m\u001b[1;33m)\u001b[0m\u001b[1;33m\u001b[0m\u001b[0m\n",
      "\u001b[1;32m<ipython-input-10-832f49fb675f>\u001b[0m in \u001b[0;36m<lambda>\u001b[1;34m(x)\u001b[0m\n\u001b[0;32m      3\u001b[0m     \u001b[0mresult\u001b[0m \u001b[1;33m=\u001b[0m \u001b[0mlist\u001b[0m\u001b[1;33m(\u001b[0m\u001b[0mmap\u001b[0m\u001b[1;33m(\u001b[0m\u001b[1;32mlambda\u001b[0m \u001b[0mx\u001b[0m\u001b[1;33m:\u001b[0m \u001b[0mdict\u001b[0m\u001b[1;33m(\u001b[0m\u001b[0mzip\u001b[0m\u001b[1;33m(\u001b[0m\u001b[0mcol_names\u001b[0m\u001b[1;33m,\u001b[0m \u001b[0mx\u001b[0m\u001b[1;33m.\u001b[0m\u001b[0mstrip\u001b[0m\u001b[1;33m(\u001b[0m\u001b[1;33m)\u001b[0m\u001b[1;33m.\u001b[0m\u001b[0msplit\u001b[0m\u001b[1;33m(\u001b[0m\u001b[1;34m'.'\u001b[0m\u001b[1;33m)\u001b[0m\u001b[1;33m)\u001b[0m\u001b[1;33m)\u001b[0m\u001b[1;33m,\u001b[0m\u001b[0mf\u001b[0m\u001b[1;33m.\u001b[0m\u001b[0mreadlines\u001b[0m\u001b[1;33m(\u001b[0m\u001b[1;33m)\u001b[0m\u001b[1;33m[\u001b[0m\u001b[1;36m1\u001b[0m\u001b[1;33m:\u001b[0m\u001b[1;33m]\u001b[0m\u001b[1;33m)\u001b[0m\u001b[1;33m)\u001b[0m\u001b[1;33m\u001b[0m\u001b[0m\n\u001b[0;32m      4\u001b[0m \u001b[1;33m\u001b[0m\u001b[0m\n\u001b[1;32m----> 5\u001b[1;33m \u001b[0mprob_1\u001b[0m \u001b[1;33m=\u001b[0m \u001b[0mlist\u001b[0m\u001b[1;33m(\u001b[0m\u001b[0mmap\u001b[0m\u001b[1;33m(\u001b[0m\u001b[1;32mlambda\u001b[0m \u001b[0mx\u001b[0m \u001b[1;33m:\u001b[0m \u001b[0mx\u001b[0m\u001b[1;33m[\u001b[0m\u001b[1;34m'Player'\u001b[0m\u001b[1;33m]\u001b[0m\u001b[1;33m,\u001b[0m \u001b[0mfilter\u001b[0m\u001b[1;33m(\u001b[0m\u001b[1;32mlambda\u001b[0m \u001b[0mx\u001b[0m \u001b[1;33m:\u001b[0m \u001b[0mint\u001b[0m\u001b[1;33m(\u001b[0m\u001b[0mx\u001b[0m\u001b[1;33m[\u001b[0m\u001b[1;34m'HR'\u001b[0m\u001b[1;33m]\u001b[0m\u001b[1;33m)\u001b[0m \u001b[1;33m>=\u001b[0m \u001b[1;36m30\u001b[0m \u001b[1;32mand\u001b[0m \u001b[0mfloat\u001b[0m\u001b[1;33m(\u001b[0m\u001b[0mx\u001b[0m\u001b[1;33m[\u001b[0m\u001b[1;34m'AVG'\u001b[0m\u001b[1;33m]\u001b[0m\u001b[1;33m)\u001b[0m  \u001b[1;33m>\u001b[0m\u001b[1;36m0.3\u001b[0m\u001b[1;33m,\u001b[0m\u001b[0mresult\u001b[0m\u001b[1;33m)\u001b[0m\u001b[1;33m)\u001b[0m\u001b[1;33m)\u001b[0m\u001b[1;33m\u001b[0m\u001b[0m\n\u001b[0m\u001b[0;32m      6\u001b[0m \u001b[1;33m\u001b[0m\u001b[0m\n\u001b[0;32m      7\u001b[0m \u001b[0mprob_2\u001b[0m \u001b[1;33m=\u001b[0m \u001b[0mlist\u001b[0m\u001b[1;33m(\u001b[0m\u001b[0mmap\u001b[0m\u001b[1;33m(\u001b[0m\u001b[1;32mlambda\u001b[0m \u001b[0mx\u001b[0m \u001b[1;33m:\u001b[0m \u001b[0mx\u001b[0m\u001b[1;33m[\u001b[0m\u001b[1;34m'Player'\u001b[0m\u001b[1;33m]\u001b[0m\u001b[1;33m,\u001b[0m \u001b[0mfilter\u001b[0m\u001b[1;33m(\u001b[0m\u001b[1;32mlambda\u001b[0m \u001b[0mx\u001b[0m \u001b[1;33m:\u001b[0m \u001b[0mint\u001b[0m\u001b[1;33m(\u001b[0m\u001b[0mx\u001b[0m\u001b[1;33m[\u001b[0m\u001b[1;34m'SO'\u001b[0m\u001b[1;33m]\u001b[0m\u001b[1;33m)\u001b[0m \u001b[1;33m>=\u001b[0m \u001b[1;36m30\u001b[0m \u001b[1;32mand\u001b[0m \u001b[0mfloat\u001b[0m\u001b[1;33m(\u001b[0m\u001b[0mx\u001b[0m\u001b[1;33m[\u001b[0m\u001b[1;34m'H'\u001b[0m\u001b[1;33m]\u001b[0m\u001b[1;33m)\u001b[0m    \u001b[1;33m>\u001b[0m\u001b[1;36m0.3\u001b[0m\u001b[1;33m,\u001b[0m\u001b[0mresult\u001b[0m\u001b[1;33m)\u001b[0m\u001b[1;33m)\u001b[0m\u001b[1;33m)\u001b[0m\u001b[1;33m\u001b[0m\u001b[0m\n",
      "\u001b[1;31mKeyError\u001b[0m: 'HR'"
     ]
    }
   ],
   "source": [
    "with open('table.csv', 'r') as f:\n",
    "    col_names = f.readline().strip().split(',')\n",
    "    result = list(map(lambda x: dict(zip(col_names, x.strip().split('.'))),f.readlines()[1:]))\n",
    "  \n",
    "prob_1 = list(map(lambda x : x['Player'], filter(lambda x : int(x['HR']) >= 30 and float(x['AVG'])  >0.3,result)))\n",
    "\n",
    "prob_2 = list(map(lambda x : x['Player'], filter(lambda x : int(x['SO']) >= 30 and float(x['H'])    >0.3,result)))\n"
   ]
  },
  {
   "cell_type": "code",
   "execution_count": null,
   "metadata": {},
   "outputs": [],
   "source": []
  },
  {
   "cell_type": "code",
   "execution_count": 11,
   "metadata": {
    "scrolled": true
   },
   "outputs": [
    {
     "ename": "KeyError",
     "evalue": "'HR'",
     "output_type": "error",
     "traceback": [
      "\u001b[1;31m---------------------------------------------------------------------------\u001b[0m",
      "\u001b[1;31mKeyError\u001b[0m                                  Traceback (most recent call last)",
      "\u001b[1;32m<ipython-input-11-0b3fadb2f102>\u001b[0m in \u001b[0;36m<module>\u001b[1;34m()\u001b[0m\n\u001b[0;32m      3\u001b[0m     \u001b[0mresult\u001b[0m \u001b[1;33m=\u001b[0m \u001b[0mlist\u001b[0m\u001b[1;33m(\u001b[0m\u001b[0mmap\u001b[0m\u001b[1;33m(\u001b[0m\u001b[1;32mlambda\u001b[0m \u001b[0mx\u001b[0m\u001b[1;33m:\u001b[0m \u001b[0mdict\u001b[0m\u001b[1;33m(\u001b[0m\u001b[0mzip\u001b[0m\u001b[1;33m(\u001b[0m\u001b[0mcol_names\u001b[0m\u001b[1;33m,\u001b[0m \u001b[0mx\u001b[0m\u001b[1;33m.\u001b[0m\u001b[0mstrip\u001b[0m\u001b[1;33m(\u001b[0m\u001b[1;33m)\u001b[0m\u001b[1;33m.\u001b[0m\u001b[0msplit\u001b[0m\u001b[1;33m(\u001b[0m\u001b[1;34m'.'\u001b[0m\u001b[1;33m)\u001b[0m\u001b[1;33m)\u001b[0m\u001b[1;33m)\u001b[0m\u001b[1;33m,\u001b[0m\u001b[0mf\u001b[0m\u001b[1;33m.\u001b[0m\u001b[0mreadlines\u001b[0m\u001b[1;33m(\u001b[0m\u001b[1;33m)\u001b[0m\u001b[1;33m[\u001b[0m\u001b[1;36m1\u001b[0m\u001b[1;33m:\u001b[0m\u001b[1;33m]\u001b[0m\u001b[1;33m)\u001b[0m\u001b[1;33m)\u001b[0m\u001b[1;33m\u001b[0m\u001b[0m\n\u001b[0;32m      4\u001b[0m \u001b[1;33m\u001b[0m\u001b[0m\n\u001b[1;32m----> 5\u001b[1;33m \u001b[0mprob_1\u001b[0m \u001b[1;33m=\u001b[0m \u001b[1;33m[\u001b[0m\u001b[0mplayer\u001b[0m\u001b[1;33m[\u001b[0m\u001b[1;34m'Player'\u001b[0m\u001b[1;33m]\u001b[0m \u001b[1;32mfor\u001b[0m \u001b[0mplayer\u001b[0m \u001b[1;32min\u001b[0m \u001b[0mresult\u001b[0m  \u001b[1;32mif\u001b[0m \u001b[0mint\u001b[0m\u001b[1;33m(\u001b[0m\u001b[0mplayer\u001b[0m\u001b[1;33m[\u001b[0m\u001b[1;34m'HR'\u001b[0m\u001b[1;33m]\u001b[0m\u001b[1;33m)\u001b[0m  \u001b[1;33m>=\u001b[0m \u001b[1;36m30\u001b[0m \u001b[1;32mand\u001b[0m \u001b[0mfloat\u001b[0m\u001b[1;33m(\u001b[0m\u001b[0mplayer\u001b[0m\u001b[1;33m[\u001b[0m\u001b[1;34m'AVG'\u001b[0m\u001b[1;33m]\u001b[0m\u001b[1;33m)\u001b[0m \u001b[1;33m>\u001b[0m \u001b[1;36m0.3\u001b[0m\u001b[1;33m]\u001b[0m\u001b[1;33m\u001b[0m\u001b[0m\n\u001b[0m\u001b[0;32m      6\u001b[0m \u001b[1;33m\u001b[0m\u001b[0m\n\u001b[0;32m      7\u001b[0m \u001b[1;33m\u001b[0m\u001b[0m\n",
      "\u001b[1;32m<ipython-input-11-0b3fadb2f102>\u001b[0m in \u001b[0;36m<listcomp>\u001b[1;34m(.0)\u001b[0m\n\u001b[0;32m      3\u001b[0m     \u001b[0mresult\u001b[0m \u001b[1;33m=\u001b[0m \u001b[0mlist\u001b[0m\u001b[1;33m(\u001b[0m\u001b[0mmap\u001b[0m\u001b[1;33m(\u001b[0m\u001b[1;32mlambda\u001b[0m \u001b[0mx\u001b[0m\u001b[1;33m:\u001b[0m \u001b[0mdict\u001b[0m\u001b[1;33m(\u001b[0m\u001b[0mzip\u001b[0m\u001b[1;33m(\u001b[0m\u001b[0mcol_names\u001b[0m\u001b[1;33m,\u001b[0m \u001b[0mx\u001b[0m\u001b[1;33m.\u001b[0m\u001b[0mstrip\u001b[0m\u001b[1;33m(\u001b[0m\u001b[1;33m)\u001b[0m\u001b[1;33m.\u001b[0m\u001b[0msplit\u001b[0m\u001b[1;33m(\u001b[0m\u001b[1;34m'.'\u001b[0m\u001b[1;33m)\u001b[0m\u001b[1;33m)\u001b[0m\u001b[1;33m)\u001b[0m\u001b[1;33m,\u001b[0m\u001b[0mf\u001b[0m\u001b[1;33m.\u001b[0m\u001b[0mreadlines\u001b[0m\u001b[1;33m(\u001b[0m\u001b[1;33m)\u001b[0m\u001b[1;33m[\u001b[0m\u001b[1;36m1\u001b[0m\u001b[1;33m:\u001b[0m\u001b[1;33m]\u001b[0m\u001b[1;33m)\u001b[0m\u001b[1;33m)\u001b[0m\u001b[1;33m\u001b[0m\u001b[0m\n\u001b[0;32m      4\u001b[0m \u001b[1;33m\u001b[0m\u001b[0m\n\u001b[1;32m----> 5\u001b[1;33m \u001b[0mprob_1\u001b[0m \u001b[1;33m=\u001b[0m \u001b[1;33m[\u001b[0m\u001b[0mplayer\u001b[0m\u001b[1;33m[\u001b[0m\u001b[1;34m'Player'\u001b[0m\u001b[1;33m]\u001b[0m \u001b[1;32mfor\u001b[0m \u001b[0mplayer\u001b[0m \u001b[1;32min\u001b[0m \u001b[0mresult\u001b[0m  \u001b[1;32mif\u001b[0m \u001b[0mint\u001b[0m\u001b[1;33m(\u001b[0m\u001b[0mplayer\u001b[0m\u001b[1;33m[\u001b[0m\u001b[1;34m'HR'\u001b[0m\u001b[1;33m]\u001b[0m\u001b[1;33m)\u001b[0m  \u001b[1;33m>=\u001b[0m \u001b[1;36m30\u001b[0m \u001b[1;32mand\u001b[0m \u001b[0mfloat\u001b[0m\u001b[1;33m(\u001b[0m\u001b[0mplayer\u001b[0m\u001b[1;33m[\u001b[0m\u001b[1;34m'AVG'\u001b[0m\u001b[1;33m]\u001b[0m\u001b[1;33m)\u001b[0m \u001b[1;33m>\u001b[0m \u001b[1;36m0.3\u001b[0m\u001b[1;33m]\u001b[0m\u001b[1;33m\u001b[0m\u001b[0m\n\u001b[0m\u001b[0;32m      6\u001b[0m \u001b[1;33m\u001b[0m\u001b[0m\n\u001b[0;32m      7\u001b[0m \u001b[1;33m\u001b[0m\u001b[0m\n",
      "\u001b[1;31mKeyError\u001b[0m: 'HR'"
     ]
    }
   ],
   "source": [
    "with open('MLB_batter.csv', 'r') as f:\n",
    "    col_names = f.readline().strip().split(',')\n",
    "    result = list(map(lambda x: dict(zip(col_names, x.strip().split('.'))),f.readlines()[1:]))\n",
    "    \n",
    "prob_1 = [player['Player'] for player in result  if int(player['HR'])  >= 30 and float(player['AVG']) > 0.3]\n",
    "\n",
    "\n",
    "prob_2 = [player['Player'] for player in result if int(player['SO']) > 130 and int(player['H']) <100]\n",
    "\n",
    "print(prob_1)\n",
    "print(prob_2)"
   ]
  },
  {
   "cell_type": "code",
   "execution_count": null,
   "metadata": {},
   "outputs": [],
   "source": [
    "import random\n",
    "for i in range(10):\n",
    "    print(random.random())"
   ]
  },
  {
   "cell_type": "code",
   "execution_count": 14,
   "metadata": {},
   "outputs": [],
   "source": [
    "def coinToss():\n",
    "    import random\n",
    "    \n",
    "    value = random.random()\n",
    "    if (value > 0.3):\n",
    "        return 'win'\n",
    "    else:\n",
    "        return 'lose'"
   ]
  },
  {
   "cell_type": "code",
   "execution_count": 16,
   "metadata": {},
   "outputs": [
    {
     "data": {
      "text/plain": [
       "<function __main__.coinToss()>"
      ]
     },
     "execution_count": 16,
     "metadata": {},
     "output_type": "execute_result"
    }
   ],
   "source": [
    "coinToss"
   ]
  },
  {
   "cell_type": "code",
   "execution_count": null,
   "metadata": {},
   "outputs": [],
   "source": []
  },
  {
   "cell_type": "code",
   "execution_count": 12,
   "metadata": {},
   "outputs": [],
   "source": [
    "def drawMap(location):\n",
    "    l = []\n",
    "    for i in range(51):\n",
    "        l.append('')\n",
    "    l[0] = 'l'\n",
    "    l[50]= 'l'\n",
    "    l[location] = '$'\n",
    "    return ''.join(l)"
   ]
  },
  {
   "cell_type": "code",
   "execution_count": 13,
   "metadata": {},
   "outputs": [
    {
     "data": {
      "text/plain": [
       "<function __main__.drawMap(location)>"
      ]
     },
     "execution_count": 13,
     "metadata": {},
     "output_type": "execute_result"
    }
   ],
   "source": [
    "drawMap"
   ]
  },
  {
   "cell_type": "code",
   "execution_count": 17,
   "metadata": {},
   "outputs": [
    {
     "name": "stdout",
     "output_type": "stream",
     "text": [
      "게임을 시작하지..\n",
      "\n",
      "l$l\n",
      "l$l\n",
      "l$l\n",
      "l$l\n",
      "l$l\n",
      "l$l\n",
      "l$l\n",
      "l$l\n",
      "l$l\n",
      "l$l\n",
      "l$l\n",
      "l$l\n",
      "l$l\n",
      "l$l\n",
      "l$l\n",
      "l$l\n",
      "l$l\n",
      "l$l\n",
      "l$l\n",
      "l$l\n",
      "l$l\n",
      "l$l\n",
      "l$l\n",
      "l$l\n",
      "l$l\n",
      "l$l\n",
      "l$l\n",
      "l$l\n",
      "l$l\n",
      "l$l\n",
      "l$l\n",
      "l$l\n",
      "l$l\n",
      "l$l\n",
      "l$l\n",
      "l$l\n",
      "l$l\n",
      "l$l\n",
      "l$l\n",
      "l$l\n",
      "l$l\n",
      "l$l\n",
      "l$l\n",
      "l$l\n",
      "l$l\n",
      "l$l\n",
      "\n",
      "\n",
      " win! after 45 matches.\n"
     ]
    }
   ],
   "source": [
    "location =1\n",
    "trial = 0\n",
    "print('게임을 시작하지..\\n')\n",
    "\n",
    "print(drawMap(1))\n",
    "while (location < 49):\n",
    "    coin = coinToss()\n",
    "    trial += 1\n",
    "    if (coin == 'win'):\n",
    "        location +=2 if (location < 48) else 1\n",
    "    else:\n",
    "        location -=1 if (location > 1) else 0 \n",
    "    print(drawMap(location))\n",
    "print('\\n\\n win! after {} matches.'.format(trial))"
   ]
  },
  {
   "cell_type": "code",
   "execution_count": 18,
   "metadata": {},
   "outputs": [
    {
     "name": "stdout",
     "output_type": "stream",
     "text": [
      "게임을 시작하지..\n",
      "\n",
      "l$l\n",
      "l$l\n",
      "l$l\n",
      "l$l\n",
      "l$l\n",
      "l$l\n",
      "l$l\n",
      "l$l\n",
      "l$l\n",
      "l$l\n",
      "l$l\n",
      "l$l\n",
      "l$l\n",
      "l$l\n",
      "l$l\n",
      "l$l\n",
      "l$l\n",
      "l$l\n",
      "l$l\n",
      "l$l\n",
      "l$l\n",
      "l$l\n",
      "l$l\n",
      "l$l\n",
      "l$l\n",
      "l$l\n",
      "l$l\n",
      "l$l\n",
      "l$l\n",
      "l$l\n",
      "l$l\n",
      "l$l\n",
      "l$l\n",
      "l$l\n",
      "l$l\n",
      "l$l\n",
      "l$l\n",
      "l$l\n",
      "l$l\n",
      "l$l\n",
      "l$l\n",
      "l$l\n",
      "l$l\n",
      "l$l\n",
      "l$l\n",
      "l$l\n",
      "l$l\n",
      "l$l\n",
      "\n",
      "\n",
      " win! after 48 matches.\n"
     ]
    }
   ],
   "source": [
    "import time\n",
    "location =1\n",
    "trial = 0\n",
    "print('게임을 시작하지..\\n')\n",
    "\n",
    "print(drawMap(1) , end =\"\\r\")\n",
    "while (location < 49):\n",
    "    time.sleep(0.5)\n",
    "    coin = coinToss()\n",
    "    trial += 1\n",
    "    if (coin == 'win'):\n",
    "        location +=2 if (location < 48) else 1\n",
    "    else:\n",
    "        location -=1 if (location > 1) else 0 \n",
    "    print(drawMap(location))\n",
    "print('\\n\\n win! after {} matches.'.format(trial))"
   ]
  },
  {
   "cell_type": "code",
   "execution_count": null,
   "metadata": {},
   "outputs": [],
   "source": []
  },
  {
   "cell_type": "code",
   "execution_count": null,
   "metadata": {},
   "outputs": [],
   "source": []
  },
  {
   "cell_type": "code",
   "execution_count": 12,
   "metadata": {},
   "outputs": [],
   "source": [
    "class PartTimer:\n",
    "    pass"
   ]
  },
  {
   "cell_type": "code",
   "execution_count": 3,
   "metadata": {},
   "outputs": [],
   "source": [
    "kim = PartTimer()\n",
    "lee = PartTimer()"
   ]
  },
  {
   "cell_type": "code",
   "execution_count": null,
   "metadata": {},
   "outputs": [],
   "source": []
  },
  {
   "cell_type": "code",
   "execution_count": 4,
   "metadata": {},
   "outputs": [],
   "source": [
    "class PartTimer:\n",
    "    hour_rate = 7500\n",
    "    nickname = None"
   ]
  },
  {
   "cell_type": "code",
   "execution_count": 5,
   "metadata": {},
   "outputs": [
    {
     "data": {
      "text/plain": [
       "7500"
      ]
     },
     "execution_count": 5,
     "metadata": {},
     "output_type": "execute_result"
    }
   ],
   "source": [
    "kim = PartTimer()\n",
    "kim.hour_rate"
   ]
  },
  {
   "cell_type": "code",
   "execution_count": 6,
   "metadata": {},
   "outputs": [
    {
     "data": {
      "text/plain": [
       "7000"
      ]
     },
     "execution_count": 6,
     "metadata": {},
     "output_type": "execute_result"
    }
   ],
   "source": [
    "lee = PartTimer()\n",
    "lee.hour_rate = 7000\n",
    "lee.hour_rate"
   ]
  },
  {
   "cell_type": "code",
   "execution_count": 7,
   "metadata": {},
   "outputs": [
    {
     "data": {
      "text/plain": [
       "'포도'"
      ]
     },
     "execution_count": 7,
     "metadata": {},
     "output_type": "execute_result"
    }
   ],
   "source": [
    "lee.nickname = '포도'\n",
    "lee.nickname"
   ]
  },
  {
   "cell_type": "code",
   "execution_count": null,
   "metadata": {},
   "outputs": [],
   "source": []
  },
  {
   "cell_type": "code",
   "execution_count": 8,
   "metadata": {},
   "outputs": [],
   "source": [
    "class PartTimer:\n",
    "    hour_rate = 7500\n",
    "    nickname = None\n",
    "    def setnickname(self,name):\n",
    "        self.nickname = name"
   ]
  },
  {
   "cell_type": "code",
   "execution_count": 10,
   "metadata": {},
   "outputs": [
    {
     "data": {
      "text/plain": [
       "'라이언'"
      ]
     },
     "execution_count": 10,
     "metadata": {},
     "output_type": "execute_result"
    }
   ],
   "source": [
    "park = PartTimer()\n",
    "park.setnickname('라이언')\n",
    "park.nickname"
   ]
  },
  {
   "cell_type": "code",
   "execution_count": 14,
   "metadata": {},
   "outputs": [],
   "source": [
    "class PartTimer:\n",
    "    ''' A Simple Class'''\n",
    "    hour_rate = 7500\n",
    "    nickname = None\n",
    "    \n",
    "    def setnickname(self, name):\n",
    "        self.nickname = name\n",
    "        \n",
    "    def 넌누구니(self):\n",
    "        return '저는 알바생 입니다.'"
   ]
  },
  {
   "cell_type": "code",
   "execution_count": 197,
   "metadata": {},
   "outputs": [],
   "source": [
    "PartTimer.__doc__"
   ]
  },
  {
   "cell_type": "code",
   "execution_count": 19,
   "metadata": {},
   "outputs": [
    {
     "name": "stdout",
     "output_type": "stream",
     "text": [
      "Help on class PartTimer in module __main__:\n",
      "\n",
      "class PartTimer(builtins.object)\n",
      " |  A Simple Class\n",
      " |  \n",
      " |  Methods defined here:\n",
      " |  \n",
      " |  setnickname(self, name)\n",
      " |  \n",
      " |  넌누구니(self)\n",
      " |  \n",
      " |  ----------------------------------------------------------------------\n",
      " |  Data descriptors defined here:\n",
      " |  \n",
      " |  __dict__\n",
      " |      dictionary for instance variables (if defined)\n",
      " |  \n",
      " |  __weakref__\n",
      " |      list of weak references to the object (if defined)\n",
      " |  \n",
      " |  ----------------------------------------------------------------------\n",
      " |  Data and other attributes defined here:\n",
      " |  \n",
      " |  hour_rate = 7500\n",
      " |  \n",
      " |  nickname = None\n",
      "\n"
     ]
    }
   ],
   "source": [
    "help(PartTimer)"
   ]
  },
  {
   "cell_type": "code",
   "execution_count": 20,
   "metadata": {},
   "outputs": [],
   "source": [
    "PartTimer.nickname= '네오'"
   ]
  },
  {
   "cell_type": "code",
   "execution_count": 21,
   "metadata": {},
   "outputs": [
    {
     "data": {
      "text/plain": [
       "7500"
      ]
     },
     "execution_count": 21,
     "metadata": {},
     "output_type": "execute_result"
    }
   ],
   "source": [
    "PartTimer.hour_rate"
   ]
  },
  {
   "cell_type": "code",
   "execution_count": 22,
   "metadata": {},
   "outputs": [],
   "source": [
    "x = PartTimer()"
   ]
  },
  {
   "cell_type": "code",
   "execution_count": 23,
   "metadata": {},
   "outputs": [],
   "source": [
    "PartTimer.workplace = '113동'"
   ]
  },
  {
   "cell_type": "code",
   "execution_count": 24,
   "metadata": {},
   "outputs": [
    {
     "data": {
      "text/plain": [
       "'113동'"
      ]
     },
     "execution_count": 24,
     "metadata": {},
     "output_type": "execute_result"
    }
   ],
   "source": [
    "PartTimer.workplace"
   ]
  },
  {
   "cell_type": "code",
   "execution_count": 25,
   "metadata": {},
   "outputs": [
    {
     "data": {
      "text/plain": [
       "'113동'"
      ]
     },
     "execution_count": 25,
     "metadata": {},
     "output_type": "execute_result"
    }
   ],
   "source": [
    "x.workplace"
   ]
  },
  {
   "cell_type": "code",
   "execution_count": 26,
   "metadata": {},
   "outputs": [],
   "source": [
    "x.major = '경영 정보'"
   ]
  },
  {
   "cell_type": "code",
   "execution_count": 27,
   "metadata": {},
   "outputs": [
    {
     "data": {
      "text/plain": [
       "'경영 정보'"
      ]
     },
     "execution_count": 27,
     "metadata": {},
     "output_type": "execute_result"
    }
   ],
   "source": [
    "x.major"
   ]
  },
  {
   "cell_type": "code",
   "execution_count": 29,
   "metadata": {},
   "outputs": [
    {
     "ename": "AttributeError",
     "evalue": "type object 'PartTimer' has no attribute 'major'",
     "output_type": "error",
     "traceback": [
      "\u001b[1;31m---------------------------------------------------------------------------\u001b[0m",
      "\u001b[1;31mAttributeError\u001b[0m                            Traceback (most recent call last)",
      "\u001b[1;32m<ipython-input-29-4e68b92bb17d>\u001b[0m in \u001b[0;36m<module>\u001b[1;34m()\u001b[0m\n\u001b[1;32m----> 1\u001b[1;33m \u001b[0mPartTimer\u001b[0m\u001b[1;33m.\u001b[0m\u001b[0mmajor\u001b[0m\u001b[1;33m\u001b[0m\u001b[0m\n\u001b[0m",
      "\u001b[1;31mAttributeError\u001b[0m: type object 'PartTimer' has no attribute 'major'"
     ]
    }
   ],
   "source": [
    "PartTimer.major"
   ]
  },
  {
   "cell_type": "code",
   "execution_count": 30,
   "metadata": {},
   "outputs": [
    {
     "data": {
      "text/plain": [
       "<function __main__.PartTimer.setnickname(self, name)>"
      ]
     },
     "execution_count": 30,
     "metadata": {},
     "output_type": "execute_result"
    }
   ],
   "source": [
    "PartTimer.setnickname"
   ]
  },
  {
   "cell_type": "code",
   "execution_count": 31,
   "metadata": {},
   "outputs": [
    {
     "ename": "TypeError",
     "evalue": "setnickname() missing 1 required positional argument: 'name'",
     "output_type": "error",
     "traceback": [
      "\u001b[1;31m---------------------------------------------------------------------------\u001b[0m",
      "\u001b[1;31mTypeError\u001b[0m                                 Traceback (most recent call last)",
      "\u001b[1;32m<ipython-input-31-73007c6b90cd>\u001b[0m in \u001b[0;36m<module>\u001b[1;34m()\u001b[0m\n\u001b[1;32m----> 1\u001b[1;33m \u001b[0mPartTimer\u001b[0m\u001b[1;33m.\u001b[0m\u001b[0msetnickname\u001b[0m\u001b[1;33m(\u001b[0m\u001b[1;34m'어피치'\u001b[0m\u001b[1;33m)\u001b[0m\u001b[1;33m\u001b[0m\u001b[0m\n\u001b[0m",
      "\u001b[1;31mTypeError\u001b[0m: setnickname() missing 1 required positional argument: 'name'"
     ]
    }
   ],
   "source": [
    "PartTimer.setnickname('어피치')"
   ]
  },
  {
   "cell_type": "code",
   "execution_count": 32,
   "metadata": {},
   "outputs": [],
   "source": [
    "PartTimer.setnickname(x,'어피치')"
   ]
  },
  {
   "cell_type": "code",
   "execution_count": 33,
   "metadata": {},
   "outputs": [
    {
     "data": {
      "text/plain": [
       "'어피치'"
      ]
     },
     "execution_count": 33,
     "metadata": {},
     "output_type": "execute_result"
    }
   ],
   "source": [
    "x.nickname"
   ]
  },
  {
   "cell_type": "code",
   "execution_count": 34,
   "metadata": {},
   "outputs": [
    {
     "data": {
      "text/plain": [
       "'네오'"
      ]
     },
     "execution_count": 34,
     "metadata": {},
     "output_type": "execute_result"
    }
   ],
   "source": [
    "PartTimer.nickname"
   ]
  },
  {
   "cell_type": "code",
   "execution_count": 35,
   "metadata": {},
   "outputs": [
    {
     "data": {
      "text/plain": [
       "<bound method PartTimer.setnickname of <__main__.PartTimer object at 0x01663110>>"
      ]
     },
     "execution_count": 35,
     "metadata": {},
     "output_type": "execute_result"
    }
   ],
   "source": [
    "x.setnickname"
   ]
  },
  {
   "cell_type": "code",
   "execution_count": 36,
   "metadata": {},
   "outputs": [],
   "source": [
    "x.setnickname('무지')"
   ]
  },
  {
   "cell_type": "code",
   "execution_count": 37,
   "metadata": {},
   "outputs": [
    {
     "data": {
      "text/plain": [
       "'저는 알바생 입니다.'"
      ]
     },
     "execution_count": 37,
     "metadata": {},
     "output_type": "execute_result"
    }
   ],
   "source": [
    "x.넌누구니()"
   ]
  },
  {
   "cell_type": "code",
   "execution_count": 38,
   "metadata": {},
   "outputs": [],
   "source": [
    "y = x.넌누구니"
   ]
  },
  {
   "cell_type": "code",
   "execution_count": 39,
   "metadata": {},
   "outputs": [
    {
     "data": {
      "text/plain": [
       "'저는 알바생 입니다.'"
      ]
     },
     "execution_count": 39,
     "metadata": {},
     "output_type": "execute_result"
    }
   ],
   "source": [
    "y()"
   ]
  },
  {
   "cell_type": "code",
   "execution_count": 40,
   "metadata": {},
   "outputs": [
    {
     "data": {
      "text/plain": [
       "'저는 알바생 입니다.'"
      ]
     },
     "execution_count": 40,
     "metadata": {},
     "output_type": "execute_result"
    }
   ],
   "source": [
    "PartTimer.넌누구니(x)"
   ]
  },
  {
   "cell_type": "code",
   "execution_count": 41,
   "metadata": {},
   "outputs": [],
   "source": [
    "class PartTimer:\n",
    "    hour_rate = 7500\n",
    "    nickname  = None\n",
    "    def setnickname(self, name):\n",
    "        self.nickname = name\n",
    "    def getnickname(self):\n",
    "        return '저의 닉네임은 ' + self.nickname + '입니다'"
   ]
  },
  {
   "cell_type": "code",
   "execution_count": 43,
   "metadata": {},
   "outputs": [],
   "source": [
    "lee = PartTimer()"
   ]
  },
  {
   "cell_type": "code",
   "execution_count": 44,
   "metadata": {},
   "outputs": [],
   "source": [
    "lee.setnickname('프로도')"
   ]
  },
  {
   "cell_type": "code",
   "execution_count": 45,
   "metadata": {},
   "outputs": [
    {
     "data": {
      "text/plain": [
       "'저의 닉네임은 프로도입니다'"
      ]
     },
     "execution_count": 45,
     "metadata": {},
     "output_type": "execute_result"
    }
   ],
   "source": [
    "lee.getnickname()"
   ]
  },
  {
   "cell_type": "code",
   "execution_count": 46,
   "metadata": {},
   "outputs": [
    {
     "ename": "TypeError",
     "evalue": "must be str, not NoneType",
     "output_type": "error",
     "traceback": [
      "\u001b[1;31m---------------------------------------------------------------------------\u001b[0m",
      "\u001b[1;31mTypeError\u001b[0m                                 Traceback (most recent call last)",
      "\u001b[1;32m<ipython-input-46-6ca5a2c4bbd7>\u001b[0m in \u001b[0;36m<module>\u001b[1;34m()\u001b[0m\n\u001b[0;32m      1\u001b[0m \u001b[0mpark\u001b[0m  \u001b[1;33m=\u001b[0m \u001b[0mPartTimer\u001b[0m\u001b[1;33m(\u001b[0m\u001b[1;33m)\u001b[0m\u001b[1;33m\u001b[0m\u001b[0m\n\u001b[1;32m----> 2\u001b[1;33m \u001b[0mpark\u001b[0m\u001b[1;33m.\u001b[0m\u001b[0mgetnickname\u001b[0m\u001b[1;33m(\u001b[0m\u001b[1;33m)\u001b[0m\u001b[1;33m\u001b[0m\u001b[0m\n\u001b[0m",
      "\u001b[1;32m<ipython-input-41-50c55548c4a1>\u001b[0m in \u001b[0;36mgetnickname\u001b[1;34m(self)\u001b[0m\n\u001b[0;32m      5\u001b[0m         \u001b[0mself\u001b[0m\u001b[1;33m.\u001b[0m\u001b[0mnickname\u001b[0m \u001b[1;33m=\u001b[0m \u001b[0mname\u001b[0m\u001b[1;33m\u001b[0m\u001b[0m\n\u001b[0;32m      6\u001b[0m     \u001b[1;32mdef\u001b[0m \u001b[0mgetnickname\u001b[0m\u001b[1;33m(\u001b[0m\u001b[0mself\u001b[0m\u001b[1;33m)\u001b[0m\u001b[1;33m:\u001b[0m\u001b[1;33m\u001b[0m\u001b[0m\n\u001b[1;32m----> 7\u001b[1;33m         \u001b[1;32mreturn\u001b[0m \u001b[1;34m'저의 닉네임은 '\u001b[0m \u001b[1;33m+\u001b[0m \u001b[0mself\u001b[0m\u001b[1;33m.\u001b[0m\u001b[0mnickname\u001b[0m \u001b[1;33m+\u001b[0m \u001b[1;34m'입니다'\u001b[0m\u001b[1;33m\u001b[0m\u001b[0m\n\u001b[0m",
      "\u001b[1;31mTypeError\u001b[0m: must be str, not NoneType"
     ]
    }
   ],
   "source": [
    "park  = PartTimer()\n",
    "park.getnickname()"
   ]
  },
  {
   "cell_type": "code",
   "execution_count": 47,
   "metadata": {},
   "outputs": [],
   "source": [
    "class PartTimer:\n",
    "    hour_rate = 7500\n",
    "    \n",
    "    def __int__(self, name):\n",
    "        self.nickname = name\n",
    "    def getnickname(self):\n",
    "        return '저의 닉네임은' + self.nickname + '입니다'"
   ]
  },
  {
   "cell_type": "code",
   "execution_count": 48,
   "metadata": {},
   "outputs": [],
   "source": [
    "kim = PartTimer()"
   ]
  },
  {
   "cell_type": "code",
   "execution_count": 49,
   "metadata": {},
   "outputs": [
    {
     "ename": "TypeError",
     "evalue": "object() takes no parameters",
     "output_type": "error",
     "traceback": [
      "\u001b[1;31m---------------------------------------------------------------------------\u001b[0m",
      "\u001b[1;31mTypeError\u001b[0m                                 Traceback (most recent call last)",
      "\u001b[1;32m<ipython-input-49-403ec962238e>\u001b[0m in \u001b[0;36m<module>\u001b[1;34m()\u001b[0m\n\u001b[1;32m----> 1\u001b[1;33m \u001b[0mkim\u001b[0m \u001b[1;33m=\u001b[0m \u001b[0mPartTimer\u001b[0m\u001b[1;33m(\u001b[0m\u001b[1;34m'제이지'\u001b[0m\u001b[1;33m)\u001b[0m\u001b[1;33m\u001b[0m\u001b[0m\n\u001b[0m\u001b[0;32m      2\u001b[0m \u001b[0mkim\u001b[0m\u001b[1;33m.\u001b[0m\u001b[0mgetnickname\u001b[0m\u001b[1;33m(\u001b[0m\u001b[1;33m)\u001b[0m\u001b[1;33m\u001b[0m\u001b[0m\n",
      "\u001b[1;31mTypeError\u001b[0m: object() takes no parameters"
     ]
    }
   ],
   "source": [
    "kim = PartTimer('제이지')\n",
    "kim.getnickname()"
   ]
  },
  {
   "cell_type": "code",
   "execution_count": 50,
   "metadata": {},
   "outputs": [],
   "source": [
    "def __int__(self,name):\n",
    "    self.nickname = name"
   ]
  },
  {
   "cell_type": "code",
   "execution_count": 19,
   "metadata": {},
   "outputs": [],
   "source": [
    "class PartTimer:\n",
    "    hour_rate = 7500\n",
    "    total_parttimers = 0\n",
    "    def __int__(self, name):\n",
    "        self.nickname = name\n",
    "        PartTimer.total_parttimers += 1\n",
    "    def getnickname(self):\n",
    "        return '저의 닉네임은 {}입니다'.format(self.nickname)"
   ]
  },
  {
   "cell_type": "code",
   "execution_count": 20,
   "metadata": {},
   "outputs": [
    {
     "data": {
      "text/plain": [
       "<__main__.PartTimer at 0x6492c30>"
      ]
     },
     "execution_count": 20,
     "metadata": {},
     "output_type": "execute_result"
    }
   ],
   "source": [
    "PartTimer()"
   ]
  },
  {
   "cell_type": "code",
   "execution_count": 21,
   "metadata": {},
   "outputs": [
    {
     "ename": "TypeError",
     "evalue": "object() takes no parameters",
     "output_type": "error",
     "traceback": [
      "\u001b[1;31m---------------------------------------------------------------------------\u001b[0m",
      "\u001b[1;31mTypeError\u001b[0m                                 Traceback (most recent call last)",
      "\u001b[1;32m<ipython-input-21-676d94eb5669>\u001b[0m in \u001b[0;36m<module>\u001b[1;34m()\u001b[0m\n\u001b[1;32m----> 1\u001b[1;33m \u001b[0mx\u001b[0m \u001b[1;33m=\u001b[0m \u001b[0mPartTimer\u001b[0m\u001b[1;33m(\u001b[0m\u001b[1;34m'네오'\u001b[0m\u001b[1;33m)\u001b[0m\u001b[1;33m\u001b[0m\u001b[0m\n\u001b[0m\u001b[0;32m      2\u001b[0m \u001b[0my\u001b[0m \u001b[1;33m=\u001b[0m \u001b[0mPartTimer\u001b[0m\u001b[1;33m(\u001b[0m\u001b[1;34m'프로도'\u001b[0m\u001b[1;33m)\u001b[0m\u001b[1;33m\u001b[0m\u001b[0m\n",
      "\u001b[1;31mTypeError\u001b[0m: object() takes no parameters"
     ]
    }
   ],
   "source": [
    "x = PartTimer('네오')\n",
    "y = PartTimer('프로도')"
   ]
  },
  {
   "cell_type": "code",
   "execution_count": 61,
   "metadata": {},
   "outputs": [
    {
     "data": {
      "text/plain": [
       "'무지'"
      ]
     },
     "execution_count": 61,
     "metadata": {},
     "output_type": "execute_result"
    }
   ],
   "source": [
    "x.nickname"
   ]
  },
  {
   "cell_type": "code",
   "execution_count": 62,
   "metadata": {},
   "outputs": [
    {
     "ename": "AttributeError",
     "evalue": "'function' object has no attribute 'nickname'",
     "output_type": "error",
     "traceback": [
      "\u001b[1;31m---------------------------------------------------------------------------\u001b[0m",
      "\u001b[1;31mAttributeError\u001b[0m                            Traceback (most recent call last)",
      "\u001b[1;32m<ipython-input-62-ff14762edcb3>\u001b[0m in \u001b[0;36m<module>\u001b[1;34m()\u001b[0m\n\u001b[1;32m----> 1\u001b[1;33m \u001b[0my\u001b[0m\u001b[1;33m.\u001b[0m\u001b[0mnickname\u001b[0m\u001b[1;33m\u001b[0m\u001b[0m\n\u001b[0m",
      "\u001b[1;31mAttributeError\u001b[0m: 'function' object has no attribute 'nickname'"
     ]
    }
   ],
   "source": [
    "y.nickname"
   ]
  },
  {
   "cell_type": "code",
   "execution_count": 63,
   "metadata": {},
   "outputs": [
    {
     "ename": "AttributeError",
     "evalue": "'PartTimer' object has no attribute 'total_parttimers'",
     "output_type": "error",
     "traceback": [
      "\u001b[1;31m---------------------------------------------------------------------------\u001b[0m",
      "\u001b[1;31mAttributeError\u001b[0m                            Traceback (most recent call last)",
      "\u001b[1;32m<ipython-input-63-8436732b7dca>\u001b[0m in \u001b[0;36m<module>\u001b[1;34m()\u001b[0m\n\u001b[1;32m----> 1\u001b[1;33m \u001b[0mx\u001b[0m\u001b[1;33m.\u001b[0m\u001b[0mtotal_parttimers\u001b[0m\u001b[1;33m\u001b[0m\u001b[0m\n\u001b[0m",
      "\u001b[1;31mAttributeError\u001b[0m: 'PartTimer' object has no attribute 'total_parttimers'"
     ]
    }
   ],
   "source": [
    "x.total_parttimers"
   ]
  },
  {
   "cell_type": "code",
   "execution_count": 64,
   "metadata": {},
   "outputs": [
    {
     "ename": "AttributeError",
     "evalue": "'function' object has no attribute 'total_parttimers'",
     "output_type": "error",
     "traceback": [
      "\u001b[1;31m---------------------------------------------------------------------------\u001b[0m",
      "\u001b[1;31mAttributeError\u001b[0m                            Traceback (most recent call last)",
      "\u001b[1;32m<ipython-input-64-9fad9afda3e9>\u001b[0m in \u001b[0;36m<module>\u001b[1;34m()\u001b[0m\n\u001b[1;32m----> 1\u001b[1;33m \u001b[0my\u001b[0m\u001b[1;33m.\u001b[0m\u001b[0mtotal_parttimers\u001b[0m\u001b[1;33m\u001b[0m\u001b[0m\n\u001b[0m",
      "\u001b[1;31mAttributeError\u001b[0m: 'function' object has no attribute 'total_parttimers'"
     ]
    }
   ],
   "source": [
    "y.total_parttimers"
   ]
  },
  {
   "cell_type": "code",
   "execution_count": 65,
   "metadata": {},
   "outputs": [
    {
     "ename": "TypeError",
     "evalue": "object() takes no parameters",
     "output_type": "error",
     "traceback": [
      "\u001b[1;31m---------------------------------------------------------------------------\u001b[0m",
      "\u001b[1;31mTypeError\u001b[0m                                 Traceback (most recent call last)",
      "\u001b[1;32m<ipython-input-65-753e1f1abc99>\u001b[0m in \u001b[0;36m<module>\u001b[1;34m()\u001b[0m\n\u001b[1;32m----> 1\u001b[1;33m \u001b[0mz\u001b[0m\u001b[1;33m=\u001b[0m \u001b[0mPartTimer\u001b[0m\u001b[1;33m(\u001b[0m\u001b[1;34m'무지'\u001b[0m\u001b[1;33m)\u001b[0m\u001b[1;33m\u001b[0m\u001b[0m\n\u001b[0m\u001b[0;32m      2\u001b[0m \u001b[0mz\u001b[0m\u001b[1;33m.\u001b[0m\u001b[0mnickname\u001b[0m\u001b[1;33m\u001b[0m\u001b[0m\n",
      "\u001b[1;31mTypeError\u001b[0m: object() takes no parameters"
     ]
    }
   ],
   "source": [
    "z = PartTimer('무지')\n",
    "z.nickname"
   ]
  },
  {
   "cell_type": "code",
   "execution_count": 66,
   "metadata": {},
   "outputs": [
    {
     "ename": "NameError",
     "evalue": "name 'z' is not defined",
     "output_type": "error",
     "traceback": [
      "\u001b[1;31m---------------------------------------------------------------------------\u001b[0m",
      "\u001b[1;31mNameError\u001b[0m                                 Traceback (most recent call last)",
      "\u001b[1;32m<ipython-input-66-2adb449c38da>\u001b[0m in \u001b[0;36m<module>\u001b[1;34m()\u001b[0m\n\u001b[1;32m----> 1\u001b[1;33m \u001b[0mz\u001b[0m\u001b[1;33m.\u001b[0m\u001b[0mtotal_parttimers\u001b[0m\u001b[1;33m\u001b[0m\u001b[0m\n\u001b[0m",
      "\u001b[1;31mNameError\u001b[0m: name 'z' is not defined"
     ]
    }
   ],
   "source": [
    "z.total_parttimers"
   ]
  },
  {
   "cell_type": "code",
   "execution_count": 67,
   "metadata": {},
   "outputs": [
    {
     "data": {
      "text/plain": [
       "0"
      ]
     },
     "execution_count": 67,
     "metadata": {},
     "output_type": "execute_result"
    }
   ],
   "source": [
    "PartTimer.total_parttimers"
   ]
  },
  {
   "cell_type": "code",
   "execution_count": 68,
   "metadata": {},
   "outputs": [
    {
     "ename": "AttributeError",
     "evalue": "'PartTimer' object has no attribute 'total_parttimers'",
     "output_type": "error",
     "traceback": [
      "\u001b[1;31m---------------------------------------------------------------------------\u001b[0m",
      "\u001b[1;31mAttributeError\u001b[0m                            Traceback (most recent call last)",
      "\u001b[1;32m<ipython-input-68-8436732b7dca>\u001b[0m in \u001b[0;36m<module>\u001b[1;34m()\u001b[0m\n\u001b[1;32m----> 1\u001b[1;33m \u001b[0mx\u001b[0m\u001b[1;33m.\u001b[0m\u001b[0mtotal_parttimers\u001b[0m\u001b[1;33m\u001b[0m\u001b[0m\n\u001b[0m",
      "\u001b[1;31mAttributeError\u001b[0m: 'PartTimer' object has no attribute 'total_parttimers'"
     ]
    }
   ],
   "source": [
    "x.total_parttimers"
   ]
  },
  {
   "cell_type": "code",
   "execution_count": null,
   "metadata": {},
   "outputs": [],
   "source": []
  }
 ],
 "metadata": {
  "kernelspec": {
   "display_name": "Python 3",
   "language": "python",
   "name": "python3"
  },
  "language_info": {
   "codemirror_mode": {
    "name": "ipython",
    "version": 3
   },
   "file_extension": ".py",
   "mimetype": "text/x-python",
   "name": "python",
   "nbconvert_exporter": "python",
   "pygments_lexer": "ipython3",
   "version": "3.6.5"
  }
 },
 "nbformat": 4,
 "nbformat_minor": 2
}
