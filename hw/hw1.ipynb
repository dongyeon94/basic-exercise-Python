{
 "cells": [
  {
   "cell_type": "code",
   "execution_count": null,
   "metadata": {},
   "outputs": [],
   "source": []
  },
  {
   "cell_type": "code",
   "execution_count": null,
   "metadata": {},
   "outputs": [],
   "source": []
  },
  {
   "cell_type": "code",
   "execution_count": 1,
   "metadata": {},
   "outputs": [],
   "source": [
    "import pandas as pd"
   ]
  },
  {
   "cell_type": "code",
   "execution_count": 2,
   "metadata": {},
   "outputs": [],
   "source": [
    "# Shakespeare: Hamlet, Macbeth, Julius Caesar\n",
    "# •John Milton: Paradise Lost\n",
    "# •Jane Austen: Persuasion\n",
    "# •Herman Melville: Moby Dick (only 80,000 words)\n",
    "\n",
    "from nltk.corpus import gutenberg\n",
    "import  nltk\n",
    "\n",
    "for file in gutenberg.fileids():\n",
    "      pass\n",
    "#     print(file)\n",
    "\n",
    "s = gutenberg.words('shakespeare-hamlet.txt') + gutenberg.words('shakespeare-macbeth.txt') + gutenberg.words('shakespeare-caesar.txt')\n",
    "\n"
   ]
  },
  {
   "cell_type": "code",
   "execution_count": 3,
   "metadata": {},
   "outputs": [],
   "source": [
    "d = [word.lower() for  word in s if word.isalpha()] ## 제거 한게 69340 개 6만개.\n"
   ]
  },
  {
   "cell_type": "code",
   "execution_count": 4,
   "metadata": {},
   "outputs": [
    {
     "data": {
      "text/plain": [
       "FreqDist({'the': 2222, 'and': 2036, 'to': 1515, 'i': 1455, 'of': 1302, 'you': 1124, 'a': 1019, 'my': 914, 'that': 904, 'in': 826, ...})"
      ]
     },
     "execution_count": 4,
     "metadata": {},
     "output_type": "execute_result"
    }
   ],
   "source": [
    "f = nltk.FreqDist([w.lower() for w in d])\n",
    "f"
   ]
  },
  {
   "cell_type": "code",
   "execution_count": null,
   "metadata": {},
   "outputs": [],
   "source": [
    "a1,a2,a3     = d[:5000],       d[5001:10000],  d[10001:15000] \n",
    "a4,a5,a6     = d[15001:20000], d[20001:25000], d[25001:30000]\n",
    "a7,a8,a9     = d[30001:35000], d[35001:40000], d[40001:45000]\n",
    "a10,a11,a12  = d[45001:50000], d[50001:55000], d[55001:60000]\n",
    "a13,a14      = d[60001:65000], d[65001:]"
   ]
  },
  {
   "cell_type": "code",
   "execution_count": 6,
   "metadata": {},
   "outputs": [],
   "source": [
    "f1 = nltk.FreqDist([w.lower() for w in a1])\n",
    "f2 = nltk.FreqDist([w.lower() for w in a2])\n",
    "f3 = nltk.FreqDist([w.lower() for w in a3])\n",
    "f4 = nltk.FreqDist([w.lower() for w in a4])\n",
    "f5 = nltk.FreqDist([w.lower() for w in a5])\n",
    "f6 = nltk.FreqDist([w.lower() for w in a6])\n",
    "f7 = nltk.FreqDist([w.lower() for w in a7])\n",
    "f8 = nltk.FreqDist([w.lower() for w in a8])\n",
    "f9 = nltk.FreqDist([w.lower() for w in a9])\n",
    "f10 = nltk.FreqDist([w.lower() for w in a10])\n",
    "f11 = nltk.FreqDist([w.lower() for w in a11])\n",
    "f12 = nltk.FreqDist([w.lower() for w in a12])\n",
    "f13 = nltk.FreqDist([w.lower() for w in a13])\n",
    "f14 = nltk.FreqDist([w.lower() for w in a14])"
   ]
  },
  {
   "cell_type": "code",
   "execution_count": 7,
   "metadata": {},
   "outputs": [],
   "source": [
    "s = list(f1)"
   ]
  },
  {
   "cell_type": "code",
   "execution_count": 18,
   "metadata": {},
   "outputs": [
    {
     "data": {
      "text/plain": [
       "FreqDist({'the': 172, 'and': 153, 'to': 138, 'of': 123, 'it': 102, 'you': 82, 'in': 80, 'i': 78, 'my': 74, 'a': 70, ...})"
      ]
     },
     "execution_count": 18,
     "metadata": {},
     "output_type": "execute_result"
    }
   ],
   "source": [
    "f1"
   ]
  },
  {
   "cell_type": "code",
   "execution_count": 31,
   "metadata": {},
   "outputs": [
    {
     "data": {
      "text/plain": [
       "'3.3'"
      ]
     },
     "execution_count": 31,
     "metadata": {},
     "output_type": "execute_result"
    }
   ],
   "source": [
    "nltk.__version__"
   ]
  },
  {
   "cell_type": "code",
   "execution_count": 39,
   "metadata": {},
   "outputs": [
    {
     "ename": "SyntaxError",
     "evalue": "invalid syntax (<ipython-input-39-8312160a375c>, line 1)",
     "output_type": "error",
     "traceback": [
      "\u001b[1;36m  File \u001b[1;32m\"<ipython-input-39-8312160a375c>\"\u001b[1;36m, line \u001b[1;32m1\u001b[0m\n\u001b[1;33m    f.keys().[:20]\u001b[0m\n\u001b[1;37m             ^\u001b[0m\n\u001b[1;31mSyntaxError\u001b[0m\u001b[1;31m:\u001b[0m invalid syntax\n"
     ]
    }
   ],
   "source": [
    "f.keys()[:20]"
   ]
  },
  {
   "cell_type": "code",
   "execution_count": 45,
   "metadata": {},
   "outputs": [
    {
     "data": {
      "text/plain": [
       "FreqDist({'the': 2222, 'and': 2036, 'to': 1515, 'i': 1455, 'of': 1302, 'you': 1124, 'a': 1019, 'my': 914, 'that': 904, 'in': 826, ...})"
      ]
     },
     "execution_count": 45,
     "metadata": {},
     "output_type": "execute_result"
    }
   ],
   "source": [
    "f"
   ]
  },
  {
   "cell_type": "code",
   "execution_count": 43,
   "metadata": {},
   "outputs": [],
   "source": [
    "sss = list(nltk.FreqDist.keys(f))"
   ]
  },
  {
   "cell_type": "code",
   "execution_count": null,
   "metadata": {},
   "outputs": [],
   "source": []
  },
  {
   "cell_type": "code",
   "execution_count": 30,
   "metadata": {},
   "outputs": [
    {
     "data": {
      "text/plain": [
       "[('the', 2222),\n",
       " ('and', 2036),\n",
       " ('to', 1515),\n",
       " ('i', 1455),\n",
       " ('of', 1302),\n",
       " ('you', 1124),\n",
       " ('a', 1019),\n",
       " ('my', 914),\n",
       " ('that', 904),\n",
       " ('in', 826),\n",
       " ('it', 778),\n",
       " ('is', 769),\n",
       " ('not', 722),\n",
       " ('d', 662),\n",
       " ('his', 588),\n",
       " ('with', 557),\n",
       " ('this', 546),\n",
       " ('for', 533),\n",
       " ('me', 529),\n",
       " ('your', 528),\n",
       " ('but', 510),\n",
       " ('he', 491),\n",
       " ('be', 476),\n",
       " ('what', 458),\n",
       " ('haue', 448),\n",
       " ('him', 434),\n",
       " ('as', 427),\n",
       " ('so', 424),\n",
       " ('will', 384),\n",
       " ('our', 346),\n",
       " ('ham', 337),\n",
       " ('all', 321),\n",
       " ('thou', 312),\n",
       " ('we', 306),\n",
       " ('are', 305),\n",
       " ('s', 303),\n",
       " ('shall', 300),\n",
       " ('no', 297),\n",
       " ('lord', 293),\n",
       " ('do', 287),\n",
       " ('then', 278),\n",
       " ('on', 276),\n",
       " ('by', 256),\n",
       " ('if', 243),\n",
       " ('come', 232),\n",
       " ('king', 231),\n",
       " ('enter', 230),\n",
       " ('they', 225),\n",
       " ('good', 218),\n",
       " ('let', 217)]"
      ]
     },
     "execution_count": 30,
     "metadata": {},
     "output_type": "execute_result"
    }
   ],
   "source": [
    "# f.keys()[:50]\n",
    "f.most_common(50)"
   ]
  },
  {
   "cell_type": "code",
   "execution_count": 16,
   "metadata": {},
   "outputs": [
    {
     "data": {
      "image/png": "[encoded data removed]",
      "text/plain": [
       "<Figure size 432x288 with 1 Axes>"
      ]
     },
     "metadata": {},
     "output_type": "display_data"
    }
   ],
   "source": [
    "f.plot(50)"
   ]
  },
  {
   "cell_type": "code",
   "execution_count": null,
   "metadata": {},
   "outputs": [],
   "source": []
  },
  {
   "cell_type": "code",
   "execution_count": null,
   "metadata": {},
   "outputs": [],
   "source": []
  },
  {
   "cell_type": "code",
   "execution_count": null,
   "metadata": {},
   "outputs": [],
   "source": []
  },
  {
   "cell_type": "code",
   "execution_count": null,
   "metadata": {},
   "outputs": [],
   "source": []
  },
  {
   "cell_type": "code",
   "execution_count": null,
   "metadata": {},
   "outputs": [],
   "source": []
  },
  {
   "cell_type": "code",
   "execution_count": null,
   "metadata": {},
   "outputs": [],
   "source": []
  },
  {
   "cell_type": "code",
   "execution_count": 102,
   "metadata": {},
   "outputs": [],
   "source": [
    "en = nltk.Text(f)"
   ]
  },
  {
   "cell_type": "code",
   "execution_count": 103,
   "metadata": {},
   "outputs": [
    {
     "data": {
      "text/plain": [
       "FreqDist({'the': 1, 'tragedie': 1, 'of': 1, 'hamlet': 1, 'by': 1, 'william': 1, 'shakespeare': 1, 'actus': 1, 'primus': 1, 'scoena': 1, ...})"
      ]
     },
     "execution_count": 103,
     "metadata": {},
     "output_type": "execute_result"
    }
   ],
   "source": [
    "en.vocab()"
   ]
  },
  {
   "cell_type": "code",
   "execution_count": 104,
   "metadata": {},
   "outputs": [
    {
     "data": {
      "image/png": "[encoded data removed]",
      "text/plain": [
       "<Figure size 640x480 with 1 Axes>"
      ]
     },
     "metadata": {},
     "output_type": "display_data"
    }
   ],
   "source": [
    "en.plot(50)"
   ]
  },
  {
   "cell_type": "code",
   "execution_count": null,
   "metadata": {},
   "outputs": [],
   "source": []
  },
  {
   "cell_type": "code",
   "execution_count": null,
   "metadata": {},
   "outputs": [],
   "source": []
  },
  {
   "cell_type": "code",
   "execution_count": null,
   "metadata": {},
   "outputs": [],
   "source": [
    "\n"
   ]
  },
  {
   "cell_type": "code",
   "execution_count": null,
   "metadata": {},
   "outputs": [],
   "source": []
  },
  {
   "cell_type": "code",
   "execution_count": 1,
   "metadata": {},
   "outputs": [],
   "source": [
    "import requests \n",
    "import pandas as pd\n",
    "from bs4 import BeautifulSoup"
   ]
  },
  {
   "cell_type": "code",
   "execution_count": 2,
   "metadata": {},
   "outputs": [],
   "source": [
    "def get_cse_lab(url):\n",
    "    reponse = requests.get(url)\n",
    "    soup = BeautifulSoup(reponse.text,'html.parser')\n",
    "    content = soup.select_one('#data')\n",
    "    \n",
    "    headers = [hearder.text.strip() for hearder in content.find_all('th') ]\n",
    "    rows = content.find('tbody').find_all('tr')\n",
    "    items = [{head: value.get_text().strip() for head, value in zip(headers , row.find_all('td'))} for row in rows]\n",
    "    \n",
    "    return items\n",
    "\n",
    "    "
   ]
  },
  {
   "cell_type": "code",
   "execution_count": 3,
   "metadata": {},
   "outputs": [],
   "source": [
    "url = 'https://www.fantasypros.com/nfl/reports/leaders/rb.php?year=2015&start=1&end=17'\n",
    "table = get_cse_lab(url)\n",
    "df = pd.DataFrame(table)"
   ]
  },
  {
   "cell_type": "code",
   "execution_count": 4,
   "metadata": {},
   "outputs": [],
   "source": [
    "import matplotlib.pyplot as plt"
   ]
  },
  {
   "cell_type": "code",
   "execution_count": 5,
   "metadata": {},
   "outputs": [],
   "source": [
    "df1 = df[:10]"
   ]
  },
  {
   "cell_type": "code",
   "execution_count": 6,
   "metadata": {
    "collapsed": true
   },
   "outputs": [
    {
     "data": {
      "text/html": [
       "<div>\n",
       "<style scoped>\n",
       "    .dataframe tbody tr th:only-of-type {\n",
       "        vertical-align: middle;\n",
       "    }\n",
       "\n",
       "    .dataframe tbody tr th {\n",
       "        vertical-align: top;\n",
       "    }\n",
       "\n",
       "    .dataframe thead th {\n",
       "        text-align: right;\n",
       "    }\n",
       "</style>\n",
       "<table border=\"1\" class=\"dataframe\">\n",
       "  <thead>\n",
       "    <tr style=\"text-align: right;\">\n",
       "      <th></th>\n",
       "      <th>Avg</th>\n",
       "      <th>Games</th>\n",
       "      <th>Player</th>\n",
       "      <th>Points</th>\n",
       "      <th>Rank</th>\n",
       "      <th>Team</th>\n",
       "    </tr>\n",
       "  </thead>\n",
       "  <tbody>\n",
       "    <tr>\n",
       "      <th>0</th>\n",
       "      <td>16.3</td>\n",
       "      <td>15</td>\n",
       "      <td>Devonta Freeman</td>\n",
       "      <td>243.9</td>\n",
       "      <td>1</td>\n",
       "      <td>ATL</td>\n",
       "    </tr>\n",
       "    <tr>\n",
       "      <th>1</th>\n",
       "      <td>14.4</td>\n",
       "      <td>16</td>\n",
       "      <td>Adrian Peterson</td>\n",
       "      <td>230.7</td>\n",
       "      <td>2</td>\n",
       "      <td>WAS</td>\n",
       "    </tr>\n",
       "    <tr>\n",
       "      <th>2</th>\n",
       "      <td>12.5</td>\n",
       "      <td>16</td>\n",
       "      <td>Doug Martin</td>\n",
       "      <td>199.3</td>\n",
       "      <td>3</td>\n",
       "      <td>OAK</td>\n",
       "    </tr>\n",
       "    <tr>\n",
       "      <th>3</th>\n",
       "      <td>12.1</td>\n",
       "      <td>16</td>\n",
       "      <td>DeAngelo Williams</td>\n",
       "      <td>193.4</td>\n",
       "      <td>4</td>\n",
       "      <td>FA</td>\n",
       "    </tr>\n",
       "    <tr>\n",
       "      <th>4</th>\n",
       "      <td>14.4</td>\n",
       "      <td>13</td>\n",
       "      <td>Todd Gurley</td>\n",
       "      <td>187.6</td>\n",
       "      <td>5</td>\n",
       "      <td>LAR</td>\n",
       "    </tr>\n",
       "    <tr>\n",
       "      <th>5</th>\n",
       "      <td>11.6</td>\n",
       "      <td>16</td>\n",
       "      <td>Lamar Miller</td>\n",
       "      <td>184.9</td>\n",
       "      <td>6</td>\n",
       "      <td>HOU</td>\n",
       "    </tr>\n",
       "    <tr>\n",
       "      <th>6</th>\n",
       "      <td>10.9</td>\n",
       "      <td>16</td>\n",
       "      <td>David Johnson</td>\n",
       "      <td>173.8</td>\n",
       "      <td>7</td>\n",
       "      <td>ARI</td>\n",
       "    </tr>\n",
       "    <tr>\n",
       "      <th>7</th>\n",
       "      <td>11.5</td>\n",
       "      <td>15</td>\n",
       "      <td>Chris Ivory</td>\n",
       "      <td>172.7</td>\n",
       "      <td>8</td>\n",
       "      <td>BUF</td>\n",
       "    </tr>\n",
       "    <tr>\n",
       "      <th>8</th>\n",
       "      <td>13.1</td>\n",
       "      <td>13</td>\n",
       "      <td>Matt Forte</td>\n",
       "      <td>170.7</td>\n",
       "      <td>9</td>\n",
       "      <td>FA</td>\n",
       "    </tr>\n",
       "    <tr>\n",
       "      <th>9</th>\n",
       "      <td>10.2</td>\n",
       "      <td>16</td>\n",
       "      <td>Danny Woodhead</td>\n",
       "      <td>163.1</td>\n",
       "      <td>10</td>\n",
       "      <td>FA</td>\n",
       "    </tr>\n",
       "  </tbody>\n",
       "</table>\n",
       "</div>"
      ],
      "text/plain": [
       "    Avg Games             Player Points Rank Team\n",
       "0  16.3    15    Devonta Freeman  243.9    1  ATL\n",
       "1  14.4    16    Adrian Peterson  230.7    2  WAS\n",
       "2  12.5    16        Doug Martin  199.3    3  OAK\n",
       "3  12.1    16  DeAngelo Williams  193.4    4   FA\n",
       "4  14.4    13        Todd Gurley  187.6    5  LAR\n",
       "5  11.6    16       Lamar Miller  184.9    6  HOU\n",
       "6  10.9    16      David Johnson  173.8    7  ARI\n",
       "7  11.5    15        Chris Ivory  172.7    8  BUF\n",
       "8  13.1    13         Matt Forte  170.7    9   FA\n",
       "9  10.2    16     Danny Woodhead  163.1   10   FA"
      ]
     },
     "execution_count": 6,
     "metadata": {},
     "output_type": "execute_result"
    }
   ],
   "source": [
    "df1"
   ]
  },
  {
   "cell_type": "code",
   "execution_count": 12,
   "metadata": {},
   "outputs": [],
   "source": [
    "import numpy as np"
   ]
  },
  {
   "cell_type": "code",
   "execution_count": 37,
   "metadata": {
    "scrolled": true
   },
   "outputs": [],
   "source": [
    "s = df1['Avg'].values\n",
    "a = df1['Player'].values\n",
    "d = np.arange(len(a))"
   ]
  },
  {
   "cell_type": "code",
   "execution_count": 54,
   "metadata": {},
   "outputs": [],
   "source": [
    "e = list(map(lambda x: float(x),s))"
   ]
  },
  {
   "cell_type": "code",
   "execution_count": 55,
   "metadata": {
    "scrolled": true
   },
   "outputs": [
    {
     "data": {
      "text/plain": [
       "<BarContainer object of 10 artists>"
      ]
     },
     "execution_count": 55,
     "metadata": {},
     "output_type": "execute_result"
    },
    {
     "data": {
      "image/png": "[encoded data removed]",
      "text/plain": [
       "<Figure size 640x480 with 1 Axes>"
      ]
     },
     "metadata": {},
     "output_type": "display_data"
    }
   ],
   "source": [
    "plt.barh(df1['Player'],e)"
   ]
  },
  {
   "cell_type": "code",
   "execution_count": null,
   "metadata": {},
   "outputs": [],
   "source": []
  },
  {
   "cell_type": "code",
   "execution_count": null,
   "metadata": {},
   "outputs": [],
   "source": []
  }
 ],
 "metadata": {
  "kernelspec": {
   "display_name": "Python 3",
   "language": "python",
   "name": "python3"
  },
  "language_info": {
   "codemirror_mode": {
    "name": "ipython",
    "version": 3
   },
   "file_extension": ".py",
   "mimetype": "text/x-python",
   "name": "python",
   "nbconvert_exporter": "python",
   "pygments_lexer": "ipython3",
   "version": "3.6.5"
  }
 },
 "nbformat": 4,
 "nbformat_minor": 2
}
