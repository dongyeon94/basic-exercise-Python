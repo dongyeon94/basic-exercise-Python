{
 "cells": [
  {
   "cell_type": "code",
   "execution_count": 4,
   "metadata": {},
   "outputs": [
    {
     "data": {
      "text/plain": [
       "OrderedDict([('기타', 11), ('드럼', 3), ('베이스', 5), ('섹소폰', 1), ('키보드', 2)])"
      ]
     },
     "execution_count": 4,
     "metadata": {},
     "output_type": "execute_result"
    }
   ],
   "source": [
    "stock = dict(키보드=2, 드럼=3, 기타 = 11, 베이스 = 5, 섹소폰 = 1, )\n",
    "from collections import OrderedDict\n",
    "OrderedDict(sorted(stock.items()))"
   ]
  },
  {
   "cell_type": "code",
   "execution_count": 6,
   "metadata": {},
   "outputs": [
    {
     "data": {
      "text/plain": [
       "'aaaaaaaa'"
      ]
     },
     "execution_count": 6,
     "metadata": {},
     "output_type": "execute_result"
    }
   ],
   "source": [
    "file = open('asd.txt')\n",
    "file.read()"
   ]
  },
  {
   "cell_type": "code",
   "execution_count": 40,
   "metadata": {},
   "outputs": [],
   "source": [
    "file = open('고향의 봄.txt' , 'w', encoding='utf-8')"
   ]
  },
  {
   "cell_type": "code",
   "execution_count": 41,
   "metadata": {},
   "outputs": [
    {
     "data": {
      "text/plain": [
       "23"
      ]
     },
     "execution_count": 41,
     "metadata": {},
     "output_type": "execute_result"
    }
   ],
   "source": [
    "file.write('========고향의 봄========\\n\\n')"
   ]
  },
  {
   "cell_type": "code",
   "execution_count": 42,
   "metadata": {},
   "outputs": [
    {
     "data": {
      "text/plain": [
       "17"
      ]
     },
     "execution_count": 42,
     "metadata": {},
     "output_type": "execute_result"
    }
   ],
   "source": [
    "file.write('나의 살던 고향은 꽃피는 산골\\n')"
   ]
  },
  {
   "cell_type": "code",
   "execution_count": 43,
   "metadata": {},
   "outputs": [
    {
     "data": {
      "text/plain": [
       "18"
      ]
     },
     "execution_count": 43,
     "metadata": {},
     "output_type": "execute_result"
    }
   ],
   "source": [
    "file.write('복송아 꽃 살구 꽃 아기 진달래\\n')"
   ]
  },
  {
   "cell_type": "code",
   "execution_count": 44,
   "metadata": {},
   "outputs": [
    {
     "data": {
      "text/plain": [
       "18"
      ]
     },
     "execution_count": 44,
     "metadata": {},
     "output_type": "execute_result"
    }
   ],
   "source": [
    "file.write('울굿불 굿 꽃 대궐 차리인 동네\\n')"
   ]
  },
  {
   "cell_type": "code",
   "execution_count": 45,
   "metadata": {},
   "outputs": [
    {
     "data": {
      "text/plain": [
       "19"
      ]
     },
     "execution_count": 45,
     "metadata": {},
     "output_type": "execute_result"
    }
   ],
   "source": [
    "file.write(' 그 속에서 놀던 때가 그립습니다\\n')"
   ]
  },
  {
   "cell_type": "code",
   "execution_count": 54,
   "metadata": {},
   "outputs": [],
   "source": [
    "file.close()"
   ]
  },
  {
   "cell_type": "code",
   "execution_count": 55,
   "metadata": {},
   "outputs": [],
   "source": [
    "file= open('고향의 봄.txt',encoding='utf-8')"
   ]
  },
  {
   "cell_type": "code",
   "execution_count": 56,
   "metadata": {
    "scrolled": true
   },
   "outputs": [
    {
     "name": "stdout",
     "output_type": "stream",
     "text": [
      "========고향의 봄========\n",
      "\n",
      "나의 살던 고향은 꽃피는 산골\n",
      "복송아 꽃 살구 꽃 아기 진달래\n",
      "울굿불 굿 꽃 대궐 차리인 동네\n",
      " 그 속에서 놀던 때가 그립습니다\n",
      "\n"
     ]
    }
   ],
   "source": [
    "print(file.read())"
   ]
  },
  {
   "cell_type": "code",
   "execution_count": 57,
   "metadata": {},
   "outputs": [],
   "source": [
    "file.close()"
   ]
  },
  {
   "cell_type": "code",
   "execution_count": 66,
   "metadata": {},
   "outputs": [],
   "source": [
    "file= open('고향의 봄.txt','a',encoding='utf-8')"
   ]
  },
  {
   "cell_type": "code",
   "execution_count": 67,
   "metadata": {},
   "outputs": [
    {
     "data": {
      "text/plain": [
       "20"
      ]
     },
     "execution_count": 67,
     "metadata": {},
     "output_type": "execute_result"
    }
   ],
   "source": [
    "file.write('\\n 꽃 동 네 새 동네 나의옛 고향\\n')"
   ]
  },
  {
   "cell_type": "code",
   "execution_count": 60,
   "metadata": {},
   "outputs": [
    {
     "data": {
      "text/plain": [
       "34"
      ]
     },
     "execution_count": 60,
     "metadata": {},
     "output_type": "execute_result"
    }
   ],
   "source": [
    "file.write('파란들 남쪽에서 바람이 불면\\n 냇가에 수양 버들 춤추는 동네\\n')"
   ]
  },
  {
   "cell_type": "code",
   "execution_count": 61,
   "metadata": {},
   "outputs": [
    {
     "data": {
      "text/plain": [
       "18"
      ]
     },
     "execution_count": 61,
     "metadata": {},
     "output_type": "execute_result"
    }
   ],
   "source": [
    "file.write('그 속에서 놀던 때가 그립습니다\\n')"
   ]
  },
  {
   "cell_type": "code",
   "execution_count": 68,
   "metadata": {},
   "outputs": [],
   "source": [
    "file.close()"
   ]
  },
  {
   "cell_type": "code",
   "execution_count": 69,
   "metadata": {},
   "outputs": [],
   "source": [
    "file = open('고향의 봄.txt' , encoding='utf-8')"
   ]
  },
  {
   "cell_type": "code",
   "execution_count": 70,
   "metadata": {},
   "outputs": [
    {
     "name": "stdout",
     "output_type": "stream",
     "text": [
      "========고향의 봄========\n",
      "\n",
      "나의 살던 고향은 꽃피는 산골\n",
      "복송아 꽃 살구 꽃 아기 진달래\n",
      "울굿불 굿 꽃 대궐 차리인 동네\n",
      " 그 속에서 놀던 때가 그립습니다\n",
      "\n",
      " 꽃 동 네 새 동네 나으 ㅣ옛 고향\n",
      "파란들 남쪽에서 바람이 불면\n",
      " 냇가에 수양 버들 춤추는 동네\n",
      "그 속에서 놀던 때가 그립습니다\n",
      "\n",
      " 꽃 동 네 새 동네 나의옛 고향\n",
      "\n"
     ]
    }
   ],
   "source": [
    "print(file.read())"
   ]
  },
  {
   "cell_type": "code",
   "execution_count": 72,
   "metadata": {},
   "outputs": [],
   "source": [
    "file = open('jupyter notebook created','w')"
   ]
  },
  {
   "cell_type": "code",
   "execution_count": 73,
   "metadata": {},
   "outputs": [],
   "source": [
    "file.close()"
   ]
  },
  {
   "cell_type": "code",
   "execution_count": null,
   "metadata": {},
   "outputs": [],
   "source": [
    "file = open('고향의 봄.txt','r',encoding='utf-8')\n",
    "\n",
    "file"
   ]
  },
  {
   "cell_type": "code",
   "execution_count": 84,
   "metadata": {},
   "outputs": [],
   "source": [
    "file = open('고향의 봄.txt','r',encoding='utf-8')"
   ]
  },
  {
   "cell_type": "code",
   "execution_count": 85,
   "metadata": {},
   "outputs": [
    {
     "data": {
      "text/plain": [
       "<_io.TextIOWrapper name='고향의 봄.txt' mode='r' encoding='utf-8'>"
      ]
     },
     "execution_count": 85,
     "metadata": {},
     "output_type": "execute_result"
    }
   ],
   "source": [
    "file"
   ]
  },
  {
   "cell_type": "code",
   "execution_count": 86,
   "metadata": {},
   "outputs": [
    {
     "name": "stdout",
     "output_type": "stream",
     "text": [
      "<_io.TextIOWrapper name='고향의 봄.txt' mode='r' encoding='utf-8'>\n"
     ]
    }
   ],
   "source": [
    "print(file)"
   ]
  },
  {
   "cell_type": "code",
   "execution_count": 87,
   "metadata": {},
   "outputs": [],
   "source": [
    "file.close()"
   ]
  },
  {
   "cell_type": "code",
   "execution_count": 90,
   "metadata": {},
   "outputs": [
    {
     "data": {
      "text/plain": [
       "<function TextIOWrapper.close()>"
      ]
     },
     "execution_count": 90,
     "metadata": {},
     "output_type": "execute_result"
    }
   ],
   "source": [
    "file = open('고향의 봄.txt','r',encoding='utf-8')\n",
    "data= file.read()\n",
    "file.close"
   ]
  },
  {
   "cell_type": "code",
   "execution_count": 91,
   "metadata": {},
   "outputs": [
    {
     "data": {
      "text/plain": [
       "str"
      ]
     },
     "execution_count": 91,
     "metadata": {},
     "output_type": "execute_result"
    }
   ],
   "source": [
    "type(data)"
   ]
  },
  {
   "cell_type": "code",
   "execution_count": 93,
   "metadata": {},
   "outputs": [
    {
     "data": {
      "text/plain": [
       "'========고향의 봄========\\n\\n나의 살던 고향은 꽃피는 산골\\n복송아 꽃 살구 꽃 아기 진달래\\n울굿불 굿 꽃 대궐 차리인 동네\\n 그 속에서 놀던 때가 그립습니다\\n\\n 꽃 동 네 새 동네 나으 ㅣ옛 고향\\n파란들 남쪽에서 바람이 불면\\n 냇가에 수양 버들 춤추는 동네\\n그 속에서 놀던 때가 그립습니다\\n\\n 꽃 동 네 새 동네 나의옛 고향\\n'"
      ]
     },
     "execution_count": 93,
     "metadata": {},
     "output_type": "execute_result"
    }
   ],
   "source": [
    "data"
   ]
  },
  {
   "cell_type": "code",
   "execution_count": 92,
   "metadata": {},
   "outputs": [
    {
     "name": "stdout",
     "output_type": "stream",
     "text": [
      "========고향의 봄========\n",
      "\n",
      "나의 살던 고향은 꽃피는 산골\n",
      "복송아 꽃 살구 꽃 아기 진달래\n",
      "울굿불 굿 꽃 대궐 차리인 동네\n",
      " 그 속에서 놀던 때가 그립습니다\n",
      "\n",
      " 꽃 동 네 새 동네 나으 ㅣ옛 고향\n",
      "파란들 남쪽에서 바람이 불면\n",
      " 냇가에 수양 버들 춤추는 동네\n",
      "그 속에서 놀던 때가 그립습니다\n",
      "\n",
      " 꽃 동 네 새 동네 나의옛 고향\n",
      "\n"
     ]
    }
   ],
   "source": [
    "print(data)"
   ]
  },
  {
   "cell_type": "code",
   "execution_count": 94,
   "metadata": {},
   "outputs": [],
   "source": [
    "file = open('고향의 봄.txt','r',encoding='utf-8')\n",
    "data1= file.readline()\n",
    "file.close()"
   ]
  },
  {
   "cell_type": "code",
   "execution_count": 95,
   "metadata": {},
   "outputs": [
    {
     "data": {
      "text/plain": [
       "str"
      ]
     },
     "execution_count": 95,
     "metadata": {},
     "output_type": "execute_result"
    }
   ],
   "source": [
    "type(data1)"
   ]
  },
  {
   "cell_type": "code",
   "execution_count": 96,
   "metadata": {},
   "outputs": [
    {
     "data": {
      "text/plain": [
       "'========고향의 봄========\\n'"
      ]
     },
     "execution_count": 96,
     "metadata": {},
     "output_type": "execute_result"
    }
   ],
   "source": [
    "data1"
   ]
  },
  {
   "cell_type": "code",
   "execution_count": 97,
   "metadata": {},
   "outputs": [
    {
     "name": "stdout",
     "output_type": "stream",
     "text": [
      "========고향의 봄========\n",
      "\n"
     ]
    }
   ],
   "source": [
    "print(data1)"
   ]
  },
  {
   "cell_type": "code",
   "execution_count": 106,
   "metadata": {},
   "outputs": [
    {
     "ename": "SyntaxError",
     "evalue": "invalid syntax (<ipython-input-106-7ca35248e0e5>, line 1)",
     "output_type": "error",
     "traceback": [
      "\u001b[1;36m  File \u001b[1;32m\"<ipython-input-106-7ca35248e0e5>\"\u001b[1;36m, line \u001b[1;32m1\u001b[0m\n\u001b[1;33m    with open('고향의 봄.txt','r',encoding='utf-8') as file\u001b[0m\n\u001b[1;37m                                                       ^\u001b[0m\n\u001b[1;31mSyntaxError\u001b[0m\u001b[1;31m:\u001b[0m invalid syntax\n"
     ]
    }
   ],
   "source": [
    "with open('고향의 봄.txt','r',encoding='utf-8') as file"
   ]
  },
  {
   "cell_type": "code",
   "execution_count": 107,
   "metadata": {},
   "outputs": [],
   "source": [
    "file = open('고향의 봄.txt','r',encoding='utf-8')\n",
    "data = file.read().split('\\n')\n",
    "file.close()"
   ]
  },
  {
   "cell_type": "code",
   "execution_count": 110,
   "metadata": {
    "scrolled": true
   },
   "outputs": [
    {
     "data": {
      "text/plain": [
       "list"
      ]
     },
     "execution_count": 110,
     "metadata": {},
     "output_type": "execute_result"
    }
   ],
   "source": [
    "type(data)"
   ]
  },
  {
   "cell_type": "code",
   "execution_count": 111,
   "metadata": {},
   "outputs": [
    {
     "data": {
      "text/plain": [
       "['========고향의 봄========',\n",
       " '',\n",
       " '나의 살던 고향은 꽃피는 산골',\n",
       " '복송아 꽃 살구 꽃 아기 진달래',\n",
       " '울굿불 굿 꽃 대궐 차리인 동네',\n",
       " ' 그 속에서 놀던 때가 그립습니다',\n",
       " '',\n",
       " ' 꽃 동 네 새 동네 나으 ㅣ옛 고향',\n",
       " '파란들 남쪽에서 바람이 불면',\n",
       " ' 냇가에 수양 버들 춤추는 동네',\n",
       " '그 속에서 놀던 때가 그립습니다',\n",
       " '',\n",
       " ' 꽃 동 네 새 동네 나의옛 고향',\n",
       " '']"
      ]
     },
     "execution_count": 111,
     "metadata": {},
     "output_type": "execute_result"
    }
   ],
   "source": [
    "data   ###    \\n 이 있음"
   ]
  },
  {
   "cell_type": "code",
   "execution_count": 109,
   "metadata": {},
   "outputs": [
    {
     "name": "stdout",
     "output_type": "stream",
     "text": [
      "['========고향의 봄========', '', '나의 살던 고향은 꽃피는 산골', '복송아 꽃 살구 꽃 아기 진달래', '울굿불 굿 꽃 대궐 차리인 동네', ' 그 속에서 놀던 때가 그립습니다', '', ' 꽃 동 네 새 동네 나으 ㅣ옛 고향', '파란들 남쪽에서 바람이 불면', ' 냇가에 수양 버들 춤추는 동네', '그 속에서 놀던 때가 그립습니다', '', ' 꽃 동 네 새 동네 나의옛 고향', '']\n"
     ]
    }
   ],
   "source": [
    "print(data)   ##   \\n 이 없음"
   ]
  },
  {
   "cell_type": "code",
   "execution_count": 112,
   "metadata": {},
   "outputs": [
    {
     "data": {
      "text/plain": [
       "['========고향의 봄========\\n',\n",
       " '\\n',\n",
       " '나의 살던 고향은 꽃피는 산골\\n',\n",
       " '복송아 꽃 살구 꽃 아기 진달래\\n',\n",
       " '울굿불 굿 꽃 대궐 차리인 동네\\n',\n",
       " ' 그 속에서 놀던 때가 그립습니다\\n',\n",
       " '\\n',\n",
       " ' 꽃 동 네 새 동네 나으 ㅣ옛 고향\\n',\n",
       " '파란들 남쪽에서 바람이 불면\\n',\n",
       " ' 냇가에 수양 버들 춤추는 동네\\n',\n",
       " '그 속에서 놀던 때가 그립습니다\\n',\n",
       " '\\n',\n",
       " ' 꽃 동 네 새 동네 나의옛 고향\\n']"
      ]
     },
     "execution_count": 112,
     "metadata": {},
     "output_type": "execute_result"
    }
   ],
   "source": [
    "file = open('고향의 봄.txt','r',encoding='utf-8')\n",
    "file.readlines()"
   ]
  },
  {
   "cell_type": "code",
   "execution_count": 113,
   "metadata": {},
   "outputs": [],
   "source": [
    "file.close()"
   ]
  },
  {
   "cell_type": "code",
   "execution_count": 154,
   "metadata": {},
   "outputs": [
    {
     "name": "stdout",
     "output_type": "stream",
     "text": [
      "1:========고향의 봄========\n",
      "\n",
      "2:\n",
      "\n",
      "3:나의 살던 고향은 꽃피는 산골\n",
      "\n",
      "4:복송아 꽃 살구 꽃 아기 진달래\n",
      "\n",
      "5:울굿불 굿 꽃 대궐 차리인 동네\n",
      "\n",
      "6: 그 속에서 놀던 때가 그립습니다\n",
      "\n",
      "7:\n",
      "\n",
      "8: 꽃 동 네 새 동네 나으 ㅣ옛 고향\n",
      "\n",
      "9:파란들 남쪽에서 바람이 불면\n",
      "\n",
      "10: 냇가에 수양 버들 춤추는 동네\n",
      "\n",
      "11:그 속에서 놀던 때가 그립습니다\n",
      "\n",
      "12:\n",
      "\n",
      "13: 꽃 동 네 새 동네 나의옛 고향\n",
      "\n"
     ]
    }
   ],
   "source": [
    "file = open('고향의 봄.txt','r',encoding='utf-8')\n",
    "lines = file.readlines()\n",
    "for line in range(len(lines)):\n",
    "    print('{}:{}'.format(line+1,lines[line]))\n",
    "        \n",
    "file.close()"
   ]
  },
  {
   "cell_type": "code",
   "execution_count": 172,
   "metadata": {},
   "outputs": [],
   "source": [
    "file = open('list.txt','r',encoding='utf-8')\n",
    "datali = file.readlines()\n",
    "file.close()\n",
    "for i in range(len(datali)):\n",
    "    datali[i] = datali[i].split('/')\n",
    "                                \n",
    "for i in range(len(datali)):\n",
    "    datali[i][1] = int(datali[i][1])\n",
    "    datali[i][1] = int(datali[i][2])\n",
    "    datali[i][1] = float(datali[i][3])\n",
    "    \n",
    "    "
   ]
  },
  {
   "cell_type": "code",
   "execution_count": null,
   "metadata": {},
   "outputs": [],
   "source": []
  },
  {
   "cell_type": "raw",
   "metadata": {},
   "source": []
  },
  {
   "cell_type": "code",
   "execution_count": 178,
   "metadata": {},
   "outputs": [
    {
     "name": "stdout",
     "output_type": "stream",
     "text": [
      "error감지됨 division by zero\n"
     ]
    }
   ],
   "source": [
    "try:\n",
    "    15/0\n",
    "except ArithmeticError as errrrr:   #  errrr 은 에러가 생긴 구체적 내용을 출력해줌\n",
    "    print('error감지됨',errrrr)"
   ]
  },
  {
   "cell_type": "code",
   "execution_count": 176,
   "metadata": {},
   "outputs": [
    {
     "name": "stdout",
     "output_type": "stream",
     "text": [
      "error감지됨\n"
     ]
    }
   ],
   "source": [
    "try:\n",
    "    15/0\n",
    "except (ArithmeticError, ValueError, RuntimeError) as esrr:\n",
    "    print('error감지됨')"
   ]
  },
  {
   "cell_type": "code",
   "execution_count": 184,
   "metadata": {},
   "outputs": [
    {
     "name": "stdout",
     "output_type": "stream",
     "text": [
      "과일 이름을 입력하세요배\n"
     ]
    }
   ],
   "source": [
    "target = input('과일 이름을 입력하세요')\n",
    "fruits = ['사과','딸기','바나나','블루베리','포도']\n",
    "index=0\n",
    "try:\n",
    "    while index < len(fruits):\n",
    "        if fruits[index] == target:\n",
    "            print('과일 목록의 {}번째에 존재합니다.'.format(index+1))\n",
    "            break\n",
    "        index += 1\n",
    "except Exception:\n",
    "    print('과일 목록에 없음')"
   ]
  },
  {
   "cell_type": "code",
   "execution_count": 205,
   "metadata": {},
   "outputs": [
    {
     "name": "stdout",
     "output_type": "stream",
     "text": [
      "과일 이름을 입력하세요사과\n",
      "과일 목록에 있음\n"
     ]
    }
   ],
   "source": [
    "target = input('과일 이름을 입력하세요')\n",
    "fruits = ['사과','딸기','바나나','블루베리','포도']\n",
    "\n",
    "try:\n",
    "    for i in range(len(fruits)):\n",
    "        if target == fruits[i]:\n",
    "            print('과일 목록에 있음')\n",
    "            break\n",
    "   \n",
    "except:\n",
    "    print('과일 목록에 없음')"
   ]
  },
  {
   "cell_type": "code",
   "execution_count": 208,
   "metadata": {},
   "outputs": [
    {
     "name": "stdout",
     "output_type": "stream",
     "text": [
      "과일 이름을 입력하세요배\n",
      "과일 목록에 없음\n"
     ]
    }
   ],
   "source": [
    "target = input('과일 이름을 입력하세요')\n",
    "fruits = ['사과','딸기','바나나','블루베리','포도']\n",
    "\n",
    "try:\n",
    "    index = fruits.index(target)\n",
    "except:\n",
    "    print('과일 목록에 없음')\n",
    "else:\n",
    "    print('과일 목록{}에 존재한다'.format(index+1))"
   ]
  },
  {
   "cell_type": "code",
   "execution_count": null,
   "metadata": {},
   "outputs": [],
   "source": []
  },
  {
   "cell_type": "code",
   "execution_count": null,
   "metadata": {},
   "outputs": [],
   "source": []
  }
 ],
 "metadata": {
  "kernelspec": {
   "display_name": "Python 3",
   "language": "python",
   "name": "python3"
  },
  "language_info": {
   "codemirror_mode": {
    "name": "ipython",
    "version": 3
   },
   "file_extension": ".py",
   "mimetype": "text/x-python",
   "name": "python",
   "nbconvert_exporter": "python",
   "pygments_lexer": "ipython3",
   "version": "3.6.5"
  }
 },
 "nbformat": 4,
 "nbformat_minor": 2
}
